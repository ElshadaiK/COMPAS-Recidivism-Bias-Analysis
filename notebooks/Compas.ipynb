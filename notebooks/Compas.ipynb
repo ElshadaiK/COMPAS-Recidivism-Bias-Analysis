{
  "cells": [
    {
      "cell_type": "markdown",
      "metadata": {
        "colab_type": "text",
        "id": "view-in-github"
      },
      "source": [
        "<a href=\"https://colab.research.google.com/github/ElshadaiK/COMPAS-Recidivism-Bias-Analysis/blob/main/Compas.ipynb\" target=\"_parent\"><img src=\"https://colab.research.google.com/assets/colab-badge.svg\" alt=\"Open In Colab\"/></a>"
      ]
    },
    {
      "cell_type": "markdown",
      "metadata": {
        "id": "hGpo1dMWZI3R"
      },
      "source": [
        "# Data Cleaning"
      ]
    },
    {
      "cell_type": "markdown",
      "metadata": {
        "id": "l0Dg8mXKWUSP"
      },
      "source": [
        "## Dataset Description"
      ]
    },
    {
      "cell_type": "code",
      "execution_count": 4,
      "metadata": {
        "colab": {
          "base_uri": "https://localhost:8080/"
        },
        "id": "UikgrjWeVSrW",
        "outputId": "6098a4da-8af2-45b9-acf8-0ae03428623f"
      },
      "outputs": [
        {
          "name": "stdout",
          "output_type": "stream",
          "text": [
            "Dataset Information:\n",
            "<class 'pandas.core.frame.DataFrame'>\n",
            "RangeIndex: 18316 entries, 0 to 18315\n",
            "Data columns (total 52 columns):\n",
            " #   Column                   Non-Null Count  Dtype  \n",
            "---  ------                   --------------  -----  \n",
            " 0   id                       11001 non-null  float64\n",
            " 1   name                     18316 non-null  object \n",
            " 2   first                    18316 non-null  object \n",
            " 3   last                     18316 non-null  object \n",
            " 4   compas_screening_date    18316 non-null  object \n",
            " 5   sex                      18316 non-null  object \n",
            " 6   dob                      18316 non-null  object \n",
            " 7   age                      18316 non-null  int64  \n",
            " 8   age_cat                  18316 non-null  object \n",
            " 9   race                     18316 non-null  object \n",
            " 10  juv_fel_count            18316 non-null  int64  \n",
            " 11  decile_score             18316 non-null  int64  \n",
            " 12  juv_misd_count           18316 non-null  int64  \n",
            " 13  juv_other_count          18316 non-null  int64  \n",
            " 14  priors_count             18316 non-null  int64  \n",
            " 15  days_b_screening_arrest  17019 non-null  float64\n",
            " 16  c_jail_in                17019 non-null  object \n",
            " 17  c_jail_out               17019 non-null  object \n",
            " 18  c_case_number            17449 non-null  object \n",
            " 19  c_offense_date           14364 non-null  object \n",
            " 20  c_arrest_date            3085 non-null   object \n",
            " 21  c_days_from_compas       17449 non-null  float64\n",
            " 22  c_charge_degree          17449 non-null  object \n",
            " 23  c_charge_desc            17435 non-null  object \n",
            " 24  is_recid                 18316 non-null  int64  \n",
            " 25  r_case_number            8417 non-null   object \n",
            " 26  r_charge_degree          8417 non-null   object \n",
            " 27  r_days_from_arrest       6359 non-null   float64\n",
            " 28  r_offense_date           8417 non-null   object \n",
            " 29  r_charge_desc            8277 non-null   object \n",
            " 30  r_jail_in                6359 non-null   object \n",
            " 31  r_jail_out               6359 non-null   object \n",
            " 32  violent_recid            0 non-null      float64\n",
            " 33  is_violent_recid         18316 non-null  int64  \n",
            " 34  vr_case_number           1339 non-null   object \n",
            " 35  vr_charge_degree         1339 non-null   object \n",
            " 36  vr_offense_date          1339 non-null   object \n",
            " 37  vr_charge_desc           1339 non-null   object \n",
            " 38  type_of_assessment       18316 non-null  object \n",
            " 39  decile_score.1           18316 non-null  int64  \n",
            " 40  score_text               18293 non-null  object \n",
            " 41  screening_date           18316 non-null  object \n",
            " 42  v_type_of_assessment     18316 non-null  object \n",
            " 43  v_decile_score           18316 non-null  int64  \n",
            " 44  v_score_text             18310 non-null  object \n",
            " 45  v_screening_date         18316 non-null  object \n",
            " 46  in_custody               17722 non-null  object \n",
            " 47  out_custody              17722 non-null  object \n",
            " 48  priors_count.1           18316 non-null  int64  \n",
            " 49  start                    18316 non-null  int64  \n",
            " 50  end                      18316 non-null  int64  \n",
            " 51  event                    18316 non-null  int64  \n",
            "dtypes: float64(5), int64(14), object(33)\n",
            "memory usage: 7.3+ MB\n",
            "None\n",
            "\n",
            "First 5 Rows of the Dataset:\n",
            "    id              name    first       last compas_screening_date   sex  \\\n",
            "0  1.0  miguel hernandez   miguel  hernandez            14/08/2013  Male   \n",
            "1  2.0  miguel hernandez   miguel  hernandez            14/08/2013  Male   \n",
            "2  3.0      michael ryan  michael       ryan            31/12/2014  Male   \n",
            "3  4.0       kevon dixon    kevon      dixon            27/01/2013  Male   \n",
            "4  5.0          ed philo       ed      philo            14/04/2013  Male   \n",
            "\n",
            "          dob  age          age_cat              race  ...  \\\n",
            "0  18/04/1947   69  Greater than 45             Other  ...   \n",
            "1  18/04/1947   69  Greater than 45             Other  ...   \n",
            "2  06/02/1985   31          25 - 45         Caucasian  ...   \n",
            "3  22/01/1982   34          25 - 45  African-American  ...   \n",
            "4  14/05/1991   24     Less than 25  African-American  ...   \n",
            "\n",
            "   v_type_of_assessment  v_decile_score  v_score_text  v_screening_date  \\\n",
            "0      Risk of Violence               1           Low        14/08/2013   \n",
            "1      Risk of Violence               1           Low        14/08/2013   \n",
            "2      Risk of Violence               2           Low        31/12/2014   \n",
            "3      Risk of Violence               1           Low        27/01/2013   \n",
            "4      Risk of Violence               3           Low        14/04/2013   \n",
            "\n",
            "   in_custody  out_custody priors_count.1 start  end event  \n",
            "0  07/07/2014   14/07/2014              0     0  327     0  \n",
            "1  07/07/2014   14/07/2014              0   334  961     0  \n",
            "2  30/12/2014   03/01/2015              0     3  457     0  \n",
            "3  26/01/2013   05/02/2013              0     9  159     1  \n",
            "4  16/06/2013   16/06/2013              4     0   63     0  \n",
            "\n",
            "[5 rows x 52 columns]\n",
            "\n",
            "Missing Values in Each Column:\n",
            "id                          7315\n",
            "name                           0\n",
            "first                          0\n",
            "last                           0\n",
            "compas_screening_date          0\n",
            "sex                            0\n",
            "dob                            0\n",
            "age                            0\n",
            "age_cat                        0\n",
            "race                           0\n",
            "juv_fel_count                  0\n",
            "decile_score                   0\n",
            "juv_misd_count                 0\n",
            "juv_other_count                0\n",
            "priors_count                   0\n",
            "days_b_screening_arrest     1297\n",
            "c_jail_in                   1297\n",
            "c_jail_out                  1297\n",
            "c_case_number                867\n",
            "c_offense_date              3952\n",
            "c_arrest_date              15231\n",
            "c_days_from_compas           867\n",
            "c_charge_degree              867\n",
            "c_charge_desc                881\n",
            "is_recid                       0\n",
            "r_case_number               9899\n",
            "r_charge_degree             9899\n",
            "r_days_from_arrest         11957\n",
            "r_offense_date              9899\n",
            "r_charge_desc              10039\n",
            "r_jail_in                  11957\n",
            "r_jail_out                 11957\n",
            "violent_recid              18316\n",
            "is_violent_recid               0\n",
            "vr_case_number             16977\n",
            "vr_charge_degree           16977\n",
            "vr_offense_date            16977\n",
            "vr_charge_desc             16977\n",
            "type_of_assessment             0\n",
            "decile_score.1                 0\n",
            "score_text                    23\n",
            "screening_date                 0\n",
            "v_type_of_assessment           0\n",
            "v_decile_score                 0\n",
            "v_score_text                   6\n",
            "v_screening_date               0\n",
            "in_custody                   594\n",
            "out_custody                  594\n",
            "priors_count.1                 0\n",
            "start                          0\n",
            "end                            0\n",
            "event                          0\n",
            "dtype: int64\n"
          ]
        }
      ],
      "source": [
        "# Importing the necessary library\n",
        "import pandas as pd\n",
        "\n",
        "# Loading the dataset\n",
        "df = pd.read_csv('../data/cox-violent-parsed.csv')\n",
        "\n",
        "# Displaying basic information about the dataset\n",
        "print(\"Dataset Information:\")\n",
        "print(df.info())\n",
        "\n",
        "# Displaying the first few rows of the dataset for a preview\n",
        "print(\"\\nFirst 5 Rows of the Dataset:\")\n",
        "print(df.head())\n",
        "\n",
        "# Checking for missing values in each column\n",
        "print(\"\\nMissing Values in Each Column:\")\n",
        "print(df.isnull().sum())\n"
      ]
    },
    {
      "cell_type": "markdown",
      "metadata": {
        "id": "k-Uxe3owWX3I"
      },
      "source": [
        "**Note**: This section loads the COMPAS dataset and provides basic information. The dataset contains details about individuals involved in the criminal justice system, along with various attributes like age, race, charge descriptions, and COMPAS scores (used for assessing recidivism risk). The initial exploration includes checking for missing values, which is crucial for understanding the dataset's quality."
      ]
    },
    {
      "cell_type": "markdown",
      "metadata": {
        "id": "CQBgh1E-XAqi"
      },
      "source": [
        "## Data Cleaning and Preprocessing"
      ]
    },
    {
      "cell_type": "markdown",
      "metadata": {
        "id": "60L1JpkxXxYK"
      },
      "source": [
        "### Dropping Columns with High Missing Values"
      ]
    },
    {
      "cell_type": "code",
      "execution_count": null,
      "metadata": {
        "id": "FIIHlbpmXzbJ"
      },
      "outputs": [],
      "source": [
        "# Dropping columns with a high number of missing values\n",
        "# These columns are removed because they have too many missing entries,\n",
        "# which makes them unreliable for analysis.\n",
        "df.drop(['violent_recid', 'vr_case_number', 'vr_charge_desc', 'c_case_number'], axis=1, inplace=True)\n"
      ]
    },
    {
      "cell_type": "markdown",
      "metadata": {
        "id": "hgme-vBeX7vr"
      },
      "source": [
        "**Explanation**: In this cell, columns with a significant number of missing values are being dropped from the dataset. Columns like 'violent_recid', 'vr_case_number', 'vr_charge_desc', and 'c_case_number' are removed because their high level of missing data could skew the analysis and lead to unreliable conclusions."
      ]
    },
    {
      "cell_type": "markdown",
      "metadata": {
        "id": "EDOf8q2SYJad"
      },
      "source": [
        "### Converting Date Columns"
      ]
    },
    {
      "cell_type": "code",
      "execution_count": 7,
      "metadata": {
        "id": "IkGySDzUX4zJ"
      },
      "outputs": [],
      "source": [
        "# Converting date columns to datetime format and extracting year and month\n",
        "# This conversion is necessary to use these dates in a meaningful way in the analysis.\n",
        "df['c_arrest_date'] = pd.to_datetime(df['c_arrest_date'], format='%d/%m/%Y', errors='coerce')\n",
        "df['c_arrest_year'] = df['c_arrest_date'].dt.year\n",
        "df['c_arrest_month'] = df['c_arrest_date'].dt.month\n",
        "\n",
        "# Similar conversions for other date columns\n",
        "df['r_offense_date'] = pd.to_datetime(df['r_offense_date'], format='%d/%m/%Y', errors='coerce')\n",
        "df['r_offense_year'] = df['r_offense_date'].dt.year\n",
        "df['r_offense_month'] = df['r_offense_date'].dt.month\n"
      ]
    },
    {
      "cell_type": "markdown",
      "metadata": {
        "id": "m8myHPhHYUgU"
      },
      "source": [
        "**Explanation**: This cell converts various date columns from string format to Python datetime objects. This conversion allows for easier manipulation and extraction of specific components like the year and month, which are often more useful for analysis than the full date."
      ]
    },
    {
      "cell_type": "markdown",
      "metadata": {
        "id": "t42u4ui3YYuW"
      },
      "source": [
        "### Calculating Jail Duration"
      ]
    },
    {
      "cell_type": "code",
      "execution_count": 8,
      "metadata": {
        "id": "OW3dUm6eYb71"
      },
      "outputs": [],
      "source": [
        "# Converting jail in and out dates to datetime and calculating the duration of jail time\n",
        "# The duration in jail could be a significant factor in the analysis.\n",
        "df['r_jail_in'] = pd.to_datetime(df['r_jail_in'], format='%d/%m/%Y', errors='coerce')\n",
        "df['r_jail_out'] = pd.to_datetime(df['r_jail_out'], format='%d/%m/%Y', errors='coerce')\n",
        "df['c_jail_in'] = pd.to_datetime(df['c_jail_in'], format='%d/%m/%Y', errors='coerce')\n",
        "df['c_jail_out'] = pd.to_datetime(df['c_jail_out'], format='%d/%m/%Y', errors='coerce')\n",
        "\n",
        "df['r_jail_duration'] = (df['r_jail_out'] - df['r_jail_in']).dt.days\n",
        "df['c_jail_duration'] = (df['c_jail_out'] - df['c_jail_in']).dt.days\n"
      ]
    },
    {
      "cell_type": "markdown",
      "metadata": {
        "id": "EVG27qJDYgXW"
      },
      "source": [
        "**Explanation**: In this cell, the 'in' and 'out' jail dates are converted to datetime format, and the duration of each jail stay is calculated. This information is valuable as it quantifies the time spent in jail, which might be a relevant factor in the analysis, especially for assessing recidivism risk or other behavioral patterns."
      ]
    },
    {
      "cell_type": "markdown",
      "metadata": {
        "id": "d9e6fDPyYihI"
      },
      "source": [
        "### Dropping Original Date Columns and Personal Identifying Information"
      ]
    },
    {
      "cell_type": "code",
      "execution_count": 9,
      "metadata": {
        "id": "3HOICsHUYmP8"
      },
      "outputs": [],
      "source": [
        "# Dropping the original date columns and personal identifying information\n",
        "# Personal information is removed for privacy, and original date columns are dropped\n",
        "# as they are no longer needed after extracting the year, month, and duration.\n",
        "df.drop(['c_arrest_date', 'r_offense_date', 'r_jail_in', 'r_jail_out', 'c_jail_in', 'c_jail_out',\n",
        "         'id', 'name', 'first', 'last'], axis=1, inplace=True)"
      ]
    },
    {
      "cell_type": "markdown",
      "metadata": {
        "id": "0Ui3YTJkYrC8"
      },
      "source": [
        "**Explanation**: This cell removes personal identifying information (like names and IDs) to ensure privacy and confidentiality. Additionally, original date columns are dropped since the necessary information (year, month, duration) has already been extracted."
      ]
    },
    {
      "cell_type": "markdown",
      "metadata": {
        "id": "695IPRhaYvXB"
      },
      "source": [
        "### One-Hot Encoding of Categorical Variables"
      ]
    },
    {
      "cell_type": "code",
      "execution_count": 10,
      "metadata": {
        "colab": {
          "base_uri": "https://localhost:8080/"
        },
        "id": "R6MleOM_hATz",
        "outputId": "06419d4d-7eeb-41cf-fcbf-fddb190a0644"
      },
      "outputs": [
        {
          "name": "stdout",
          "output_type": "stream",
          "text": [
            "Unique race categories before one-hot encoding: ['Other' 'Caucasian' 'African-American' 'Hispanic' 'Asian'\n",
            " 'Native American']\n"
          ]
        }
      ],
      "source": [
        "# Check unique values in the 'race' column before one-hot encoding\n",
        "print(\"Unique race categories before one-hot encoding:\", df['race'].unique())\n"
      ]
    },
    {
      "cell_type": "code",
      "execution_count": 11,
      "metadata": {
        "colab": {
          "base_uri": "https://localhost:8080/"
        },
        "id": "8QCVG_DIh_24",
        "outputId": "a500df6f-0d40-4e27-9363-f4dec8e05c31"
      },
      "outputs": [
        {
          "name": "stdout",
          "output_type": "stream",
          "text": [
            "Unique sex categories before one-hot encoding: ['Male' 'Female']\n"
          ]
        }
      ],
      "source": [
        "# Check unique values in the 'sex' column before one-hot encoding\n",
        "print(\"Unique sex categories before one-hot encoding:\", df['sex'].unique())\n"
      ]
    },
    {
      "cell_type": "code",
      "execution_count": 12,
      "metadata": {
        "id": "ofl_v3P-hDwG"
      },
      "outputs": [],
      "source": [
        "# Replace spaces with underscores in the 'race' column\n",
        "df['race'] = df['race'].str.replace(' ', '_')\n"
      ]
    },
    {
      "cell_type": "code",
      "execution_count": 13,
      "metadata": {
        "id": "BO_zsMB-iWM0"
      },
      "outputs": [],
      "source": [
        "# Manually create a column for 'African-American'\n",
        "df['race_African_American'] = df['race'].apply(lambda x: 1 if x == 'African-American' else 0)\n"
      ]
    },
    {
      "cell_type": "code",
      "execution_count": 14,
      "metadata": {
        "id": "INuRdT65Ytin"
      },
      "outputs": [],
      "source": [
        "# Converting categorical variables (like race, sex) into numerical format using one-hot encoding\n",
        "# One-hot encoding creates new columns indicating the presence of each possible value in the original data.\n",
        "df = pd.get_dummies(df, columns=['race', 'sex', 'age_cat', 'c_charge_degree'], drop_first=True)"
      ]
    },
    {
      "cell_type": "markdown",
      "metadata": {
        "id": "Air8dPapY1Fa"
      },
      "source": [
        "**Explanation**: Categorical variables are transformed into a numerical format using one-hot encoding. This process is crucial for machine learning models, as they require numerical input. One-hot encoding creates a separate column for each category within a variable, marked with 1 if the category is present and 0 otherwise."
      ]
    },
    {
      "cell_type": "markdown",
      "metadata": {
        "id": "UuxHK6jkY3Sj"
      },
      "source": [
        "### Further Data Cleaning"
      ]
    },
    {
      "cell_type": "code",
      "execution_count": 15,
      "metadata": {
        "colab": {
          "base_uri": "https://localhost:8080/"
        },
        "id": "i0kI4BpuY7zF",
        "outputId": "de3683b9-f4b1-4743-ad74-16f682a28605"
      },
      "outputs": [
        {
          "name": "stdout",
          "output_type": "stream",
          "text": [
            "Final result after handling missing values:\n",
            "age                        0\n",
            "juv_fel_count              0\n",
            "decile_score               0\n",
            "juv_misd_count             0\n",
            "juv_other_count            0\n",
            "priors_count               0\n",
            "days_b_screening_arrest    0\n",
            "c_days_from_compas         0\n",
            "c_charge_desc              0\n",
            "is_recid                   0\n",
            "is_violent_recid           0\n",
            "type_of_assessment         0\n",
            "score_text                 0\n",
            "screening_date             0\n",
            "v_type_of_assessment       0\n",
            "v_decile_score             0\n",
            "v_score_text               0\n",
            "v_screening_date           0\n",
            "in_custody                 0\n",
            "out_custody                0\n",
            "start                      0\n",
            "end                        0\n",
            "event                      0\n",
            "race_African_American      0\n",
            "race_Asian                 0\n",
            "race_Caucasian             0\n",
            "race_Hispanic              0\n",
            "race_Native_American       0\n",
            "race_Other                 0\n",
            "sex_Male                   0\n",
            "age_cat_Greater than 45    0\n",
            "age_cat_Less than 25       0\n",
            "c_charge_degree_(CT)       0\n",
            "c_charge_degree_(F1)       0\n",
            "c_charge_degree_(F2)       0\n",
            "c_charge_degree_(F3)       0\n",
            "c_charge_degree_(F5)       0\n",
            "c_charge_degree_(F6)       0\n",
            "c_charge_degree_(F7)       0\n",
            "c_charge_degree_(M1)       0\n",
            "c_charge_degree_(M2)       0\n",
            "c_charge_degree_(MO3)      0\n",
            "c_charge_degree_(NI0)      0\n",
            "c_charge_degree_(TCX)      0\n",
            "c_charge_degree_(X)        0\n",
            "age_at_screening           0\n",
            "total_prior_offenses       0\n",
            "dtype: int64\n"
          ]
        },
        {
          "name": "stderr",
          "output_type": "stream",
          "text": [
            "/var/folders/z8/_vvjvjp17jx590_gh4qpr1z40000gn/T/ipykernel_89566/913148118.py:11: FutureWarning: A value is trying to be set on a copy of a DataFrame or Series through chained assignment using an inplace method.\n",
            "The behavior will change in pandas 3.0. This inplace method will never work because the intermediate object on which we are setting values always behaves as a copy.\n",
            "\n",
            "For example, when doing 'df[col].method(value, inplace=True)', try using 'df.method({col: value}, inplace=True)' or df[col] = df[col].method(value) instead, to perform the operation inplace on the original object.\n",
            "\n",
            "\n",
            "  df['days_b_screening_arrest'].fillna(df['days_b_screening_arrest'].median(), inplace=True)\n",
            "/var/folders/z8/_vvjvjp17jx590_gh4qpr1z40000gn/T/ipykernel_89566/913148118.py:12: FutureWarning: A value is trying to be set on a copy of a DataFrame or Series through chained assignment using an inplace method.\n",
            "The behavior will change in pandas 3.0. This inplace method will never work because the intermediate object on which we are setting values always behaves as a copy.\n",
            "\n",
            "For example, when doing 'df[col].method(value, inplace=True)', try using 'df.method({col: value}, inplace=True)' or df[col] = df[col].method(value) instead, to perform the operation inplace on the original object.\n",
            "\n",
            "\n",
            "  df['c_charge_desc'].fillna('Unknown', inplace=True)\n",
            "/var/folders/z8/_vvjvjp17jx590_gh4qpr1z40000gn/T/ipykernel_89566/913148118.py:22: FutureWarning: A value is trying to be set on a copy of a DataFrame or Series through chained assignment using an inplace method.\n",
            "The behavior will change in pandas 3.0. This inplace method will never work because the intermediate object on which we are setting values always behaves as a copy.\n",
            "\n",
            "For example, when doing 'df[col].method(value, inplace=True)', try using 'df.method({col: value}, inplace=True)' or df[col] = df[col].method(value) instead, to perform the operation inplace on the original object.\n",
            "\n",
            "\n",
            "  df['c_days_from_compas'].fillna(df['c_days_from_compas'].median(), inplace=True)\n",
            "/var/folders/z8/_vvjvjp17jx590_gh4qpr1z40000gn/T/ipykernel_89566/913148118.py:23: FutureWarning: A value is trying to be set on a copy of a DataFrame or Series through chained assignment using an inplace method.\n",
            "The behavior will change in pandas 3.0. This inplace method will never work because the intermediate object on which we are setting values always behaves as a copy.\n",
            "\n",
            "For example, when doing 'df[col].method(value, inplace=True)', try using 'df.method({col: value}, inplace=True)' or df[col] = df[col].method(value) instead, to perform the operation inplace on the original object.\n",
            "\n",
            "\n",
            "  df['in_custody'].fillna('Unknown', inplace=True)\n",
            "/var/folders/z8/_vvjvjp17jx590_gh4qpr1z40000gn/T/ipykernel_89566/913148118.py:24: FutureWarning: A value is trying to be set on a copy of a DataFrame or Series through chained assignment using an inplace method.\n",
            "The behavior will change in pandas 3.0. This inplace method will never work because the intermediate object on which we are setting values always behaves as a copy.\n",
            "\n",
            "For example, when doing 'df[col].method(value, inplace=True)', try using 'df.method({col: value}, inplace=True)' or df[col] = df[col].method(value) instead, to perform the operation inplace on the original object.\n",
            "\n",
            "\n",
            "  df['out_custody'].fillna('Unknown', inplace=True)\n",
            "/var/folders/z8/_vvjvjp17jx590_gh4qpr1z40000gn/T/ipykernel_89566/913148118.py:25: FutureWarning: A value is trying to be set on a copy of a DataFrame or Series through chained assignment using an inplace method.\n",
            "The behavior will change in pandas 3.0. This inplace method will never work because the intermediate object on which we are setting values always behaves as a copy.\n",
            "\n",
            "For example, when doing 'df[col].method(value, inplace=True)', try using 'df.method({col: value}, inplace=True)' or df[col] = df[col].method(value) instead, to perform the operation inplace on the original object.\n",
            "\n",
            "\n",
            "  df['score_text'].fillna(df['score_text'].mode()[0], inplace=True)\n",
            "/var/folders/z8/_vvjvjp17jx590_gh4qpr1z40000gn/T/ipykernel_89566/913148118.py:26: FutureWarning: A value is trying to be set on a copy of a DataFrame or Series through chained assignment using an inplace method.\n",
            "The behavior will change in pandas 3.0. This inplace method will never work because the intermediate object on which we are setting values always behaves as a copy.\n",
            "\n",
            "For example, when doing 'df[col].method(value, inplace=True)', try using 'df.method({col: value}, inplace=True)' or df[col] = df[col].method(value) instead, to perform the operation inplace on the original object.\n",
            "\n",
            "\n",
            "  df['v_score_text'].fillna(df['v_score_text'].mode()[0], inplace=True)\n"
          ]
        }
      ],
      "source": [
        "# Dropping duplicate or redundant columns and calculating age at COMPAS screening\n",
        "# Redundant columns are removed, and age at screening is calculated for further analysis.\n",
        "df.drop(['decile_score.1', 'priors_count.1'], axis=1, inplace=True)\n",
        "\n",
        "df['compas_screening_date'] = pd.to_datetime(df['compas_screening_date'], format='%d/%m/%Y', errors='coerce')\n",
        "df['dob'] = pd.to_datetime(df['dob'], format='%d/%m/%Y', errors='coerce')\n",
        "df['age_at_screening'] = df['compas_screening_date'].dt.year - df['dob'].dt.year\n",
        "df.drop(['dob', 'compas_screening_date'], axis=1, inplace=True)\n",
        "\n",
        "# Handling missing values in various columns\n",
        "df['days_b_screening_arrest'].fillna(df['days_b_screening_arrest'].median(), inplace=True)\n",
        "df['c_charge_desc'].fillna('Unknown', inplace=True)\n",
        "\n",
        "# Creating a new field for total prior offenses\n",
        "df['total_prior_offenses'] = df['juv_fel_count'] + df['juv_misd_count'] + df['juv_other_count']\n",
        "\n",
        "# Further handling of missing values\n",
        "columns_to_drop = ['c_offense_date', 'r_case_number', 'r_charge_degree', 'r_days_from_arrest', 'r_charge_desc',\n",
        "                   'vr_charge_degree', 'vr_offense_date', 'c_arrest_year', 'c_arrest_month',\n",
        "                   'r_offense_year', 'r_offense_month', 'r_jail_duration', 'c_jail_duration']\n",
        "df.drop(columns_to_drop, axis=1, inplace=True)\n",
        "df['c_days_from_compas'].fillna(df['c_days_from_compas'].median(), inplace=True)\n",
        "df['in_custody'].fillna('Unknown', inplace=True)\n",
        "df['out_custody'].fillna('Unknown', inplace=True)\n",
        "df['score_text'].fillna(df['score_text'].mode()[0], inplace=True)\n",
        "df['v_score_text'].fillna(df['v_score_text'].mode()[0], inplace=True)\n",
        "\n",
        "# Final check for missing values\n",
        "print(\"Final result after handling missing values:\")\n",
        "print(df.isnull().sum())\n"
      ]
    },
    {
      "cell_type": "markdown",
      "metadata": {
        "id": "BMlrvtfZZAHH"
      },
      "source": [
        "**Explanation**: This cell includes the final stages of data cleaning. It involves dropping unnecessary or redundant columns, filling in missing values, and creating new variables that might be relevant to the analysis. The goal is to ensure that the dataset is complete, accurate, and ready for machine learning modeling."
      ]
    },
    {
      "cell_type": "markdown",
      "metadata": {
        "id": "SKx5-OkdZQaU"
      },
      "source": [
        "# Building the Decision Tree Model"
      ]
    },
    {
      "cell_type": "markdown",
      "metadata": {
        "id": "27YqEJj4Zvt7"
      },
      "source": [
        "### Preparing Data for the Model"
      ]
    },
    {
      "cell_type": "code",
      "execution_count": 16,
      "metadata": {
        "id": "n0H7lNzqZRjW"
      },
      "outputs": [],
      "source": [
        "from sklearn.model_selection import train_test_split\n",
        "\n",
        "# Preparing data for the model\n",
        "# We are dropping columns that are not needed for prediction\n",
        "# and defining 'is_recid' as our target variable.\n",
        "X = df.drop(['is_recid', 'c_charge_desc', 'type_of_assessment', 'score_text',\n",
        "             'screening_date', 'v_type_of_assessment', 'v_score_text',\n",
        "             'v_screening_date', 'in_custody', 'out_custody'], axis=1)\n",
        "y = df['is_recid']\n"
      ]
    },
    {
      "cell_type": "markdown",
      "metadata": {
        "id": "47N7rGcYZ4fn"
      },
      "source": [
        "Explanation: This cell prepares the dataset for the decision tree model. Features (`X`) and the target variable (`y`) are defined. The target variable `is_recid` represents whether recidivism occurred, which is what the model will predict. Columns that are not relevant for the prediction or are textual descriptions are dropped to focus the model on meaningful predictors."
      ]
    },
    {
      "cell_type": "markdown",
      "metadata": {
        "id": "4nGZT3BIaBMw"
      },
      "source": [
        "### Splitting the Dataset"
      ]
    },
    {
      "cell_type": "code",
      "execution_count": 17,
      "metadata": {
        "id": "aUTMtWQ-Z1wC"
      },
      "outputs": [],
      "source": [
        "# Splitting the dataset into training and testing sets\n",
        "X_train, X_test, y_train, y_test = train_test_split(X, y, test_size=0.3, random_state=42)\n"
      ]
    },
    {
      "cell_type": "markdown",
      "metadata": {
        "id": "UPUBtabnaGcL"
      },
      "source": [
        "**Explanation**: The dataset is split into training and testing sets. This is a standard practice in machine learning to assess a model's performance. The training set is used to train the model, and the testing set is used to evaluate its performance."
      ]
    },
    {
      "cell_type": "markdown",
      "metadata": {
        "id": "vq27OHrMaJ-R"
      },
      "source": [
        "### Creating and Training the Decision Tree Classifier"
      ]
    },
    {
      "cell_type": "code",
      "execution_count": 18,
      "metadata": {
        "colab": {
          "base_uri": "https://localhost:8080/",
          "height": 75
        },
        "id": "heu_7lrqaEYB",
        "outputId": "8bca26c3-2972-4448-8cac-79f63ecdc2c3"
      },
      "outputs": [
        {
          "data": {
            "text/html": [
              "<style>#sk-container-id-1 {\n",
              "  /* Definition of color scheme common for light and dark mode */\n",
              "  --sklearn-color-text: black;\n",
              "  --sklearn-color-line: gray;\n",
              "  /* Definition of color scheme for unfitted estimators */\n",
              "  --sklearn-color-unfitted-level-0: #fff5e6;\n",
              "  --sklearn-color-unfitted-level-1: #f6e4d2;\n",
              "  --sklearn-color-unfitted-level-2: #ffe0b3;\n",
              "  --sklearn-color-unfitted-level-3: chocolate;\n",
              "  /* Definition of color scheme for fitted estimators */\n",
              "  --sklearn-color-fitted-level-0: #f0f8ff;\n",
              "  --sklearn-color-fitted-level-1: #d4ebff;\n",
              "  --sklearn-color-fitted-level-2: #b3dbfd;\n",
              "  --sklearn-color-fitted-level-3: cornflowerblue;\n",
              "\n",
              "  /* Specific color for light theme */\n",
              "  --sklearn-color-text-on-default-background: var(--sg-text-color, var(--theme-code-foreground, var(--jp-content-font-color1, black)));\n",
              "  --sklearn-color-background: var(--sg-background-color, var(--theme-background, var(--jp-layout-color0, white)));\n",
              "  --sklearn-color-border-box: var(--sg-text-color, var(--theme-code-foreground, var(--jp-content-font-color1, black)));\n",
              "  --sklearn-color-icon: #696969;\n",
              "\n",
              "  @media (prefers-color-scheme: dark) {\n",
              "    /* Redefinition of color scheme for dark theme */\n",
              "    --sklearn-color-text-on-default-background: var(--sg-text-color, var(--theme-code-foreground, var(--jp-content-font-color1, white)));\n",
              "    --sklearn-color-background: var(--sg-background-color, var(--theme-background, var(--jp-layout-color0, #111)));\n",
              "    --sklearn-color-border-box: var(--sg-text-color, var(--theme-code-foreground, var(--jp-content-font-color1, white)));\n",
              "    --sklearn-color-icon: #878787;\n",
              "  }\n",
              "}\n",
              "\n",
              "#sk-container-id-1 {\n",
              "  color: var(--sklearn-color-text);\n",
              "}\n",
              "\n",
              "#sk-container-id-1 pre {\n",
              "  padding: 0;\n",
              "}\n",
              "\n",
              "#sk-container-id-1 input.sk-hidden--visually {\n",
              "  border: 0;\n",
              "  clip: rect(1px 1px 1px 1px);\n",
              "  clip: rect(1px, 1px, 1px, 1px);\n",
              "  height: 1px;\n",
              "  margin: -1px;\n",
              "  overflow: hidden;\n",
              "  padding: 0;\n",
              "  position: absolute;\n",
              "  width: 1px;\n",
              "}\n",
              "\n",
              "#sk-container-id-1 div.sk-dashed-wrapped {\n",
              "  border: 1px dashed var(--sklearn-color-line);\n",
              "  margin: 0 0.4em 0.5em 0.4em;\n",
              "  box-sizing: border-box;\n",
              "  padding-bottom: 0.4em;\n",
              "  background-color: var(--sklearn-color-background);\n",
              "}\n",
              "\n",
              "#sk-container-id-1 div.sk-container {\n",
              "  /* jupyter's `normalize.less` sets `[hidden] { display: none; }`\n",
              "     but bootstrap.min.css set `[hidden] { display: none !important; }`\n",
              "     so we also need the `!important` here to be able to override the\n",
              "     default hidden behavior on the sphinx rendered scikit-learn.org.\n",
              "     See: https://github.com/scikit-learn/scikit-learn/issues/21755 */\n",
              "  display: inline-block !important;\n",
              "  position: relative;\n",
              "}\n",
              "\n",
              "#sk-container-id-1 div.sk-text-repr-fallback {\n",
              "  display: none;\n",
              "}\n",
              "\n",
              "div.sk-parallel-item,\n",
              "div.sk-serial,\n",
              "div.sk-item {\n",
              "  /* draw centered vertical line to link estimators */\n",
              "  background-image: linear-gradient(var(--sklearn-color-text-on-default-background), var(--sklearn-color-text-on-default-background));\n",
              "  background-size: 2px 100%;\n",
              "  background-repeat: no-repeat;\n",
              "  background-position: center center;\n",
              "}\n",
              "\n",
              "/* Parallel-specific style estimator block */\n",
              "\n",
              "#sk-container-id-1 div.sk-parallel-item::after {\n",
              "  content: \"\";\n",
              "  width: 100%;\n",
              "  border-bottom: 2px solid var(--sklearn-color-text-on-default-background);\n",
              "  flex-grow: 1;\n",
              "}\n",
              "\n",
              "#sk-container-id-1 div.sk-parallel {\n",
              "  display: flex;\n",
              "  align-items: stretch;\n",
              "  justify-content: center;\n",
              "  background-color: var(--sklearn-color-background);\n",
              "  position: relative;\n",
              "}\n",
              "\n",
              "#sk-container-id-1 div.sk-parallel-item {\n",
              "  display: flex;\n",
              "  flex-direction: column;\n",
              "}\n",
              "\n",
              "#sk-container-id-1 div.sk-parallel-item:first-child::after {\n",
              "  align-self: flex-end;\n",
              "  width: 50%;\n",
              "}\n",
              "\n",
              "#sk-container-id-1 div.sk-parallel-item:last-child::after {\n",
              "  align-self: flex-start;\n",
              "  width: 50%;\n",
              "}\n",
              "\n",
              "#sk-container-id-1 div.sk-parallel-item:only-child::after {\n",
              "  width: 0;\n",
              "}\n",
              "\n",
              "/* Serial-specific style estimator block */\n",
              "\n",
              "#sk-container-id-1 div.sk-serial {\n",
              "  display: flex;\n",
              "  flex-direction: column;\n",
              "  align-items: center;\n",
              "  background-color: var(--sklearn-color-background);\n",
              "  padding-right: 1em;\n",
              "  padding-left: 1em;\n",
              "}\n",
              "\n",
              "\n",
              "/* Toggleable style: style used for estimator/Pipeline/ColumnTransformer box that is\n",
              "clickable and can be expanded/collapsed.\n",
              "- Pipeline and ColumnTransformer use this feature and define the default style\n",
              "- Estimators will overwrite some part of the style using the `sk-estimator` class\n",
              "*/\n",
              "\n",
              "/* Pipeline and ColumnTransformer style (default) */\n",
              "\n",
              "#sk-container-id-1 div.sk-toggleable {\n",
              "  /* Default theme specific background. It is overwritten whether we have a\n",
              "  specific estimator or a Pipeline/ColumnTransformer */\n",
              "  background-color: var(--sklearn-color-background);\n",
              "}\n",
              "\n",
              "/* Toggleable label */\n",
              "#sk-container-id-1 label.sk-toggleable__label {\n",
              "  cursor: pointer;\n",
              "  display: block;\n",
              "  width: 100%;\n",
              "  margin-bottom: 0;\n",
              "  padding: 0.5em;\n",
              "  box-sizing: border-box;\n",
              "  text-align: center;\n",
              "}\n",
              "\n",
              "#sk-container-id-1 label.sk-toggleable__label-arrow:before {\n",
              "  /* Arrow on the left of the label */\n",
              "  content: \"▸\";\n",
              "  float: left;\n",
              "  margin-right: 0.25em;\n",
              "  color: var(--sklearn-color-icon);\n",
              "}\n",
              "\n",
              "#sk-container-id-1 label.sk-toggleable__label-arrow:hover:before {\n",
              "  color: var(--sklearn-color-text);\n",
              "}\n",
              "\n",
              "/* Toggleable content - dropdown */\n",
              "\n",
              "#sk-container-id-1 div.sk-toggleable__content {\n",
              "  max-height: 0;\n",
              "  max-width: 0;\n",
              "  overflow: hidden;\n",
              "  text-align: left;\n",
              "  /* unfitted */\n",
              "  background-color: var(--sklearn-color-unfitted-level-0);\n",
              "}\n",
              "\n",
              "#sk-container-id-1 div.sk-toggleable__content.fitted {\n",
              "  /* fitted */\n",
              "  background-color: var(--sklearn-color-fitted-level-0);\n",
              "}\n",
              "\n",
              "#sk-container-id-1 div.sk-toggleable__content pre {\n",
              "  margin: 0.2em;\n",
              "  border-radius: 0.25em;\n",
              "  color: var(--sklearn-color-text);\n",
              "  /* unfitted */\n",
              "  background-color: var(--sklearn-color-unfitted-level-0);\n",
              "}\n",
              "\n",
              "#sk-container-id-1 div.sk-toggleable__content.fitted pre {\n",
              "  /* unfitted */\n",
              "  background-color: var(--sklearn-color-fitted-level-0);\n",
              "}\n",
              "\n",
              "#sk-container-id-1 input.sk-toggleable__control:checked~div.sk-toggleable__content {\n",
              "  /* Expand drop-down */\n",
              "  max-height: 200px;\n",
              "  max-width: 100%;\n",
              "  overflow: auto;\n",
              "}\n",
              "\n",
              "#sk-container-id-1 input.sk-toggleable__control:checked~label.sk-toggleable__label-arrow:before {\n",
              "  content: \"▾\";\n",
              "}\n",
              "\n",
              "/* Pipeline/ColumnTransformer-specific style */\n",
              "\n",
              "#sk-container-id-1 div.sk-label input.sk-toggleable__control:checked~label.sk-toggleable__label {\n",
              "  color: var(--sklearn-color-text);\n",
              "  background-color: var(--sklearn-color-unfitted-level-2);\n",
              "}\n",
              "\n",
              "#sk-container-id-1 div.sk-label.fitted input.sk-toggleable__control:checked~label.sk-toggleable__label {\n",
              "  background-color: var(--sklearn-color-fitted-level-2);\n",
              "}\n",
              "\n",
              "/* Estimator-specific style */\n",
              "\n",
              "/* Colorize estimator box */\n",
              "#sk-container-id-1 div.sk-estimator input.sk-toggleable__control:checked~label.sk-toggleable__label {\n",
              "  /* unfitted */\n",
              "  background-color: var(--sklearn-color-unfitted-level-2);\n",
              "}\n",
              "\n",
              "#sk-container-id-1 div.sk-estimator.fitted input.sk-toggleable__control:checked~label.sk-toggleable__label {\n",
              "  /* fitted */\n",
              "  background-color: var(--sklearn-color-fitted-level-2);\n",
              "}\n",
              "\n",
              "#sk-container-id-1 div.sk-label label.sk-toggleable__label,\n",
              "#sk-container-id-1 div.sk-label label {\n",
              "  /* The background is the default theme color */\n",
              "  color: var(--sklearn-color-text-on-default-background);\n",
              "}\n",
              "\n",
              "/* On hover, darken the color of the background */\n",
              "#sk-container-id-1 div.sk-label:hover label.sk-toggleable__label {\n",
              "  color: var(--sklearn-color-text);\n",
              "  background-color: var(--sklearn-color-unfitted-level-2);\n",
              "}\n",
              "\n",
              "/* Label box, darken color on hover, fitted */\n",
              "#sk-container-id-1 div.sk-label.fitted:hover label.sk-toggleable__label.fitted {\n",
              "  color: var(--sklearn-color-text);\n",
              "  background-color: var(--sklearn-color-fitted-level-2);\n",
              "}\n",
              "\n",
              "/* Estimator label */\n",
              "\n",
              "#sk-container-id-1 div.sk-label label {\n",
              "  font-family: monospace;\n",
              "  font-weight: bold;\n",
              "  display: inline-block;\n",
              "  line-height: 1.2em;\n",
              "}\n",
              "\n",
              "#sk-container-id-1 div.sk-label-container {\n",
              "  text-align: center;\n",
              "}\n",
              "\n",
              "/* Estimator-specific */\n",
              "#sk-container-id-1 div.sk-estimator {\n",
              "  font-family: monospace;\n",
              "  border: 1px dotted var(--sklearn-color-border-box);\n",
              "  border-radius: 0.25em;\n",
              "  box-sizing: border-box;\n",
              "  margin-bottom: 0.5em;\n",
              "  /* unfitted */\n",
              "  background-color: var(--sklearn-color-unfitted-level-0);\n",
              "}\n",
              "\n",
              "#sk-container-id-1 div.sk-estimator.fitted {\n",
              "  /* fitted */\n",
              "  background-color: var(--sklearn-color-fitted-level-0);\n",
              "}\n",
              "\n",
              "/* on hover */\n",
              "#sk-container-id-1 div.sk-estimator:hover {\n",
              "  /* unfitted */\n",
              "  background-color: var(--sklearn-color-unfitted-level-2);\n",
              "}\n",
              "\n",
              "#sk-container-id-1 div.sk-estimator.fitted:hover {\n",
              "  /* fitted */\n",
              "  background-color: var(--sklearn-color-fitted-level-2);\n",
              "}\n",
              "\n",
              "/* Specification for estimator info (e.g. \"i\" and \"?\") */\n",
              "\n",
              "/* Common style for \"i\" and \"?\" */\n",
              "\n",
              ".sk-estimator-doc-link,\n",
              "a:link.sk-estimator-doc-link,\n",
              "a:visited.sk-estimator-doc-link {\n",
              "  float: right;\n",
              "  font-size: smaller;\n",
              "  line-height: 1em;\n",
              "  font-family: monospace;\n",
              "  background-color: var(--sklearn-color-background);\n",
              "  border-radius: 1em;\n",
              "  height: 1em;\n",
              "  width: 1em;\n",
              "  text-decoration: none !important;\n",
              "  margin-left: 1ex;\n",
              "  /* unfitted */\n",
              "  border: var(--sklearn-color-unfitted-level-1) 1pt solid;\n",
              "  color: var(--sklearn-color-unfitted-level-1);\n",
              "}\n",
              "\n",
              ".sk-estimator-doc-link.fitted,\n",
              "a:link.sk-estimator-doc-link.fitted,\n",
              "a:visited.sk-estimator-doc-link.fitted {\n",
              "  /* fitted */\n",
              "  border: var(--sklearn-color-fitted-level-1) 1pt solid;\n",
              "  color: var(--sklearn-color-fitted-level-1);\n",
              "}\n",
              "\n",
              "/* On hover */\n",
              "div.sk-estimator:hover .sk-estimator-doc-link:hover,\n",
              ".sk-estimator-doc-link:hover,\n",
              "div.sk-label-container:hover .sk-estimator-doc-link:hover,\n",
              ".sk-estimator-doc-link:hover {\n",
              "  /* unfitted */\n",
              "  background-color: var(--sklearn-color-unfitted-level-3);\n",
              "  color: var(--sklearn-color-background);\n",
              "  text-decoration: none;\n",
              "}\n",
              "\n",
              "div.sk-estimator.fitted:hover .sk-estimator-doc-link.fitted:hover,\n",
              ".sk-estimator-doc-link.fitted:hover,\n",
              "div.sk-label-container:hover .sk-estimator-doc-link.fitted:hover,\n",
              ".sk-estimator-doc-link.fitted:hover {\n",
              "  /* fitted */\n",
              "  background-color: var(--sklearn-color-fitted-level-3);\n",
              "  color: var(--sklearn-color-background);\n",
              "  text-decoration: none;\n",
              "}\n",
              "\n",
              "/* Span, style for the box shown on hovering the info icon */\n",
              ".sk-estimator-doc-link span {\n",
              "  display: none;\n",
              "  z-index: 9999;\n",
              "  position: relative;\n",
              "  font-weight: normal;\n",
              "  right: .2ex;\n",
              "  padding: .5ex;\n",
              "  margin: .5ex;\n",
              "  width: min-content;\n",
              "  min-width: 20ex;\n",
              "  max-width: 50ex;\n",
              "  color: var(--sklearn-color-text);\n",
              "  box-shadow: 2pt 2pt 4pt #999;\n",
              "  /* unfitted */\n",
              "  background: var(--sklearn-color-unfitted-level-0);\n",
              "  border: .5pt solid var(--sklearn-color-unfitted-level-3);\n",
              "}\n",
              "\n",
              ".sk-estimator-doc-link.fitted span {\n",
              "  /* fitted */\n",
              "  background: var(--sklearn-color-fitted-level-0);\n",
              "  border: var(--sklearn-color-fitted-level-3);\n",
              "}\n",
              "\n",
              ".sk-estimator-doc-link:hover span {\n",
              "  display: block;\n",
              "}\n",
              "\n",
              "/* \"?\"-specific style due to the `<a>` HTML tag */\n",
              "\n",
              "#sk-container-id-1 a.estimator_doc_link {\n",
              "  float: right;\n",
              "  font-size: 1rem;\n",
              "  line-height: 1em;\n",
              "  font-family: monospace;\n",
              "  background-color: var(--sklearn-color-background);\n",
              "  border-radius: 1rem;\n",
              "  height: 1rem;\n",
              "  width: 1rem;\n",
              "  text-decoration: none;\n",
              "  /* unfitted */\n",
              "  color: var(--sklearn-color-unfitted-level-1);\n",
              "  border: var(--sklearn-color-unfitted-level-1) 1pt solid;\n",
              "}\n",
              "\n",
              "#sk-container-id-1 a.estimator_doc_link.fitted {\n",
              "  /* fitted */\n",
              "  border: var(--sklearn-color-fitted-level-1) 1pt solid;\n",
              "  color: var(--sklearn-color-fitted-level-1);\n",
              "}\n",
              "\n",
              "/* On hover */\n",
              "#sk-container-id-1 a.estimator_doc_link:hover {\n",
              "  /* unfitted */\n",
              "  background-color: var(--sklearn-color-unfitted-level-3);\n",
              "  color: var(--sklearn-color-background);\n",
              "  text-decoration: none;\n",
              "}\n",
              "\n",
              "#sk-container-id-1 a.estimator_doc_link.fitted:hover {\n",
              "  /* fitted */\n",
              "  background-color: var(--sklearn-color-fitted-level-3);\n",
              "}\n",
              "</style><div id=\"sk-container-id-1\" class=\"sk-top-container\"><div class=\"sk-text-repr-fallback\"><pre>DecisionTreeClassifier(random_state=42)</pre><b>In a Jupyter environment, please rerun this cell to show the HTML representation or trust the notebook. <br />On GitHub, the HTML representation is unable to render, please try loading this page with nbviewer.org.</b></div><div class=\"sk-container\" hidden><div class=\"sk-item\"><div class=\"sk-estimator fitted sk-toggleable\"><input class=\"sk-toggleable__control sk-hidden--visually\" id=\"sk-estimator-id-1\" type=\"checkbox\" checked><label for=\"sk-estimator-id-1\" class=\"sk-toggleable__label fitted sk-toggleable__label-arrow fitted\">&nbsp;&nbsp;DecisionTreeClassifier<a class=\"sk-estimator-doc-link fitted\" rel=\"noreferrer\" target=\"_blank\" href=\"https://scikit-learn.org/1.4/modules/generated/sklearn.tree.DecisionTreeClassifier.html\">?<span>Documentation for DecisionTreeClassifier</span></a><span class=\"sk-estimator-doc-link fitted\">i<span>Fitted</span></span></label><div class=\"sk-toggleable__content fitted\"><pre>DecisionTreeClassifier(random_state=42)</pre></div> </div></div></div></div>"
            ],
            "text/plain": [
              "DecisionTreeClassifier(random_state=42)"
            ]
          },
          "execution_count": 18,
          "metadata": {},
          "output_type": "execute_result"
        }
      ],
      "source": [
        "from sklearn.tree import DecisionTreeClassifier\n",
        "\n",
        "# Creating and training the decision tree classifier\n",
        "clf = DecisionTreeClassifier(random_state=42)\n",
        "clf.fit(X_train, y_train)\n"
      ]
    },
    {
      "cell_type": "markdown",
      "metadata": {
        "id": "5RTAuQw1aSKb"
      },
      "source": [
        "**Explanation**: A decision tree classifier is created and trained on the training data. Decision trees are a type of model that make decisions based on the values of the input features, making them interpretable and suitable for understanding how different factors contribute to the outcome."
      ]
    },
    {
      "cell_type": "markdown",
      "metadata": {
        "id": "LbpIIbFUaWn3"
      },
      "source": [
        "### Making Predictions and Evaluating the Model"
      ]
    },
    {
      "cell_type": "code",
      "execution_count": 19,
      "metadata": {
        "colab": {
          "base_uri": "https://localhost:8080/"
        },
        "id": "CT8RUTDpaO6H",
        "outputId": "a458cdd3-92dc-4360-852f-6eb5353bfef8"
      },
      "outputs": [
        {
          "name": "stdout",
          "output_type": "stream",
          "text": [
            "Classification Report:\n",
            "              precision    recall  f1-score   support\n",
            "\n",
            "          -1       0.95      0.94      0.95       225\n",
            "           0       0.70      0.69      0.70      2714\n",
            "           1       0.68      0.69      0.68      2556\n",
            "\n",
            "    accuracy                           0.70      5495\n",
            "   macro avg       0.78      0.77      0.78      5495\n",
            "weighted avg       0.70      0.70      0.70      5495\n",
            "\n"
          ]
        }
      ],
      "source": [
        "from sklearn.metrics import classification_report\n",
        "\n",
        "# Making predictions on the test set\n",
        "y_pred = clf.predict(X_test)\n",
        "\n",
        "# Evaluating the model's performance\n",
        "print(\"Classification Report:\")\n",
        "print(classification_report(y_test, y_pred))\n"
      ]
    },
    {
      "cell_type": "markdown",
      "metadata": {
        "id": "tpPzhB2LaiHR"
      },
      "source": [
        "**Explanation**: The trained model is used to make predictions on the test set. The performance of the model is then evaluated using a classification report, which provides metrics such as `accuracy`, `precision`, `recall`, and `F1-score`."
      ]
    },
    {
      "cell_type": "markdown",
      "metadata": {
        "id": "MLgbZvYCaqnA"
      },
      "source": [
        "# Analysis"
      ]
    },
    {
      "cell_type": "markdown",
      "metadata": {
        "id": "r0_IG5XAa3Rr"
      },
      "source": [
        "### Analyzing Feature Importance"
      ]
    },
    {
      "cell_type": "code",
      "execution_count": 20,
      "metadata": {
        "colab": {
          "base_uri": "https://localhost:8080/"
        },
        "id": "DVJfHbSjaaIQ",
        "outputId": "8818e552-59ac-4694-a7c5-aa1e0f19e46c"
      },
      "outputs": [
        {
          "name": "stdout",
          "output_type": "stream",
          "text": [
            "Feature Importances:\n",
            "                         importance\n",
            "feature                            \n",
            "end                           0.203\n",
            "start                         0.194\n",
            "priors_count                  0.069\n",
            "age_at_screening              0.055\n",
            "age                           0.053\n",
            "v_decile_score                0.047\n",
            "c_charge_degree_(F3)          0.046\n",
            "c_days_from_compas            0.045\n",
            "is_violent_recid              0.045\n",
            "decile_score                  0.043\n",
            "days_b_screening_arrest       0.038\n",
            "c_charge_degree_(M1)          0.027\n",
            "c_charge_degree_(F2)          0.026\n",
            "c_charge_degree_(M2)          0.025\n",
            "sex_Male                      0.014\n",
            "total_prior_offenses          0.010\n",
            "race_African_American         0.009\n",
            "c_charge_degree_(F1)          0.008\n",
            "race_Hispanic                 0.007\n",
            "c_charge_degree_(MO3)         0.006\n",
            "race_Caucasian                0.006\n",
            "juv_other_count               0.006\n",
            "c_charge_degree_(F7)          0.004\n",
            "race_Other                    0.004\n",
            "juv_fel_count                 0.003\n",
            "juv_misd_count                0.003\n",
            "age_cat_Greater than 45       0.002\n",
            "race_Asian                    0.001\n",
            "age_cat_Less than 25          0.001\n",
            "c_charge_degree_(CT)          0.000\n",
            "race_Native_American          0.000\n",
            "c_charge_degree_(F6)          0.000\n",
            "event                         0.000\n",
            "c_charge_degree_(NI0)         0.000\n",
            "c_charge_degree_(TCX)         0.000\n",
            "c_charge_degree_(X)           0.000\n",
            "c_charge_degree_(F5)          0.000\n"
          ]
        }
      ],
      "source": [
        "import pandas as pd\n",
        "import numpy as np\n",
        "\n",
        "# Analyzing feature importance\n",
        "importances = pd.DataFrame({'feature':X_train.columns, 'importance':np.round(clf.feature_importances_, 3)})\n",
        "importances = importances.sort_values('importance', ascending=False).set_index('feature')\n",
        "print(\"Feature Importances:\")\n",
        "print(importances)\n"
      ]
    },
    {
      "cell_type": "markdown",
      "metadata": {
        "id": "t28-Dtuga-AJ"
      },
      "source": [
        "**Explanation**: This cell analyzes which features are most important in the decision-making process of the model. Feature importance helps to understand which variables have the most significant influence on predicting recidivism."
      ]
    },
    {
      "cell_type": "markdown",
      "metadata": {
        "id": "zUttiWqgbBjf"
      },
      "source": [
        "### Visualizing the Decision Tree"
      ]
    },
    {
      "cell_type": "code",
      "execution_count": 21,
      "metadata": {
        "colab": {
          "base_uri": "https://localhost:8080/"
        },
        "id": "lLJuNjsFbpYd",
        "outputId": "6130974e-321a-4b38-c3d7-e6d7ad9cb83d"
      },
      "outputs": [
        {
          "name": "stdout",
          "output_type": "stream",
          "text": [
            "Unique classes in the target variable: [ 0 -1  1]\n",
            "Number of unique classes: 3\n"
          ]
        }
      ],
      "source": [
        "unique_classes = y.unique()\n",
        "print(\"Unique classes in the target variable:\", unique_classes)\n",
        "num_classes = len(unique_classes)\n",
        "print(\"Number of unique classes:\", num_classes)\n"
      ]
    },
    {
      "cell_type": "code",
      "execution_count": 22,
      "metadata": {
        "colab": {
          "base_uri": "https://localhost:8080/",
          "height": 566
        },
        "id": "DacqujJ-bA_K",
        "outputId": "51899761-5138-4be7-ef97-b5f3dec3dcd3"
      },
      "outputs": [
        {
          "data": {
            "image/png": "[encoded data removed]",
            "text/plain": [
              "<Figure size 2000x1000 with 1 Axes>"
            ]
          },
          "metadata": {},
          "output_type": "display_data"
        }
      ],
      "source": [
        "import matplotlib.pyplot as plt\n",
        "from sklearn.tree import plot_tree\n",
        "\n",
        "plt.figure(figsize=(20,10))\n",
        "plot_tree(clf, filled=True, feature_names=X_train.columns, class_names=['Class0', 'Class-1', 'Class1'], max_depth=3)\n",
        "plt.show()\n"
      ]
    },
    {
      "cell_type": "markdown",
      "metadata": {
        "id": "FuQKYPpUbObe"
      },
      "source": [
        "### Analyzing Bias in the Model"
      ]
    },
    {
      "cell_type": "code",
      "execution_count": 23,
      "metadata": {
        "id": "FLWN5mvkbPRn"
      },
      "outputs": [],
      "source": [
        "from sklearn.metrics import confusion_matrix\n",
        "\n",
        "# Function to analyze bias for a specific racial subgroup\n",
        "def analyze_bias_for_race(race_column_name, race_name):\n",
        "    subgroup = X_test[X_test[race_column_name] == 1]\n",
        "    subgroup_target = y_test[X_test[race_column_name] == 1]\n",
        "    subgroup_pred = clf.predict(subgroup)\n",
        "    print(f\"Confusion Matrix for {race_name} Subgroup:\")\n",
        "    print(confusion_matrix(subgroup_target, subgroup_pred))\n",
        "    print(\"\\n\")"
      ]
    },
    {
      "cell_type": "code",
      "execution_count": 24,
      "metadata": {
        "colab": {
          "base_uri": "https://localhost:8080/"
        },
        "id": "-mgDpN3oetfG",
        "outputId": "dff51405-6551-4f27-c3a3-42ff209e37b9"
      },
      "outputs": [
        {
          "name": "stdout",
          "output_type": "stream",
          "text": [
            "Index(['age', 'juv_fel_count', 'decile_score', 'juv_misd_count',\n",
            "       'juv_other_count', 'priors_count', 'days_b_screening_arrest',\n",
            "       'c_days_from_compas', 'c_charge_desc', 'is_recid', 'is_violent_recid',\n",
            "       'type_of_assessment', 'score_text', 'screening_date',\n",
            "       'v_type_of_assessment', 'v_decile_score', 'v_score_text',\n",
            "       'v_screening_date', 'in_custody', 'out_custody', 'start', 'end',\n",
            "       'event', 'race_African_American', 'race_Asian', 'race_Caucasian',\n",
            "       'race_Hispanic', 'race_Native_American', 'race_Other', 'sex_Male',\n",
            "       'age_cat_Greater than 45', 'age_cat_Less than 25',\n",
            "       'c_charge_degree_(CT)', 'c_charge_degree_(F1)', 'c_charge_degree_(F2)',\n",
            "       'c_charge_degree_(F3)', 'c_charge_degree_(F5)', 'c_charge_degree_(F6)',\n",
            "       'c_charge_degree_(F7)', 'c_charge_degree_(M1)', 'c_charge_degree_(M2)',\n",
            "       'c_charge_degree_(MO3)', 'c_charge_degree_(NI0)',\n",
            "       'c_charge_degree_(TCX)', 'c_charge_degree_(X)', 'age_at_screening',\n",
            "       'total_prior_offenses'],\n",
            "      dtype='object')\n"
          ]
        }
      ],
      "source": [
        "print(df.columns)\n"
      ]
    },
    {
      "cell_type": "code",
      "execution_count": 25,
      "metadata": {
        "colab": {
          "base_uri": "https://localhost:8080/"
        },
        "id": "Sfe2dsvpcmjP",
        "outputId": "67f1ba45-b745-48f6-8b18-7eb96f73b7b6"
      },
      "outputs": [
        {
          "name": "stdout",
          "output_type": "stream",
          "text": [
            "Confusion Matrix for Caucasian Subgroup:\n",
            "[[ 84   0   4]\n",
            " [  2 726 276]\n",
            " [  2 258 503]]\n",
            "\n",
            "\n"
          ]
        }
      ],
      "source": [
        "# Analyze bias for Caucasian subgroup\n",
        "analyze_bias_for_race('race_Caucasian', 'Caucasian')"
      ]
    },
    {
      "cell_type": "code",
      "execution_count": 26,
      "metadata": {
        "colab": {
          "base_uri": "https://localhost:8080/"
        },
        "id": "Y4uDcMP9copE",
        "outputId": "93b53b4b-0bc0-4340-854c-ffa4252a66f6"
      },
      "outputs": [
        {
          "name": "stdout",
          "output_type": "stream",
          "text": [
            "Confusion Matrix for Hispanic Subgroup:\n",
            "[[ 24   3   1]\n",
            " [  0 196  69]\n",
            " [  2  58  90]]\n",
            "\n",
            "\n"
          ]
        }
      ],
      "source": [
        "# Analyze bias for Hispanic subgroup\n",
        "analyze_bias_for_race('race_Hispanic', 'Hispanic')"
      ]
    },
    {
      "cell_type": "code",
      "execution_count": 27,
      "metadata": {
        "colab": {
          "base_uri": "https://localhost:8080/"
        },
        "id": "799Le0gYcr8y",
        "outputId": "fb66e16d-1b03-4446-ca92-2e16e1eb4a93"
      },
      "outputs": [
        {
          "name": "stdout",
          "output_type": "stream",
          "text": [
            "Confusion Matrix for Asian Subgroup:\n",
            "[[3 0 0]\n",
            " [0 7 0]\n",
            " [0 3 2]]\n",
            "\n",
            "\n"
          ]
        }
      ],
      "source": [
        "# Analyze bias for Asian subgroup\n",
        "analyze_bias_for_race('race_Asian', 'Asian')"
      ]
    },
    {
      "cell_type": "code",
      "execution_count": 28,
      "metadata": {
        "colab": {
          "base_uri": "https://localhost:8080/"
        },
        "id": "dMdiTXwrdBLr",
        "outputId": "fb423b7c-d9e4-4dcc-9211-8215158b290e"
      },
      "outputs": [
        {
          "name": "stdout",
          "output_type": "stream",
          "text": [
            "Confusion Matrix for Native American Subgroup:\n",
            "[[0 0 0]\n",
            " [0 7 3]\n",
            " [2 2 4]]\n",
            "\n",
            "\n"
          ]
        }
      ],
      "source": [
        "# Analyze bias for Native American subgroup\n",
        "analyze_bias_for_race('race_Native_American', 'Native American')"
      ]
    },
    {
      "cell_type": "code",
      "execution_count": 29,
      "metadata": {
        "colab": {
          "base_uri": "https://localhost:8080/"
        },
        "id": "DepmRpO3i2hF",
        "outputId": "d6426d80-b2cd-4346-f9ae-8dc9c94e919b"
      },
      "outputs": [
        {
          "name": "stdout",
          "output_type": "stream",
          "text": [
            "Confusion Matrix for African American Subgroup:\n",
            "[[  87    1    4]\n",
            " [   0  827  443]\n",
            " [   3  430 1100]]\n",
            "\n",
            "\n"
          ]
        }
      ],
      "source": [
        "# Analyze bias for African American subgroup\n",
        "analyze_bias_for_race('race_African_American', 'African American')"
      ]
    },
    {
      "cell_type": "code",
      "execution_count": 30,
      "metadata": {
        "colab": {
          "base_uri": "https://localhost:8080/"
        },
        "id": "VSoZ1lxdbQta",
        "outputId": "0a6194cd-6746-4ac7-eb3b-48fb98dcd8ff"
      },
      "outputs": [
        {
          "name": "stdout",
          "output_type": "stream",
          "text": [
            "Confusion Matrix for Other Subgroup:\n",
            "[[ 14   0   0]\n",
            " [  0 110  48]\n",
            " [  0  30  67]]\n",
            "\n",
            "\n"
          ]
        }
      ],
      "source": [
        "# Analyze bias for Other subgroup\n",
        "analyze_bias_for_race('race_Other', 'Other')"
      ]
    },
    {
      "cell_type": "markdown",
      "metadata": {
        "id": "yNmyQKvAbTyo"
      },
      "source": [
        "**Explanation**: Based on the output of the confusion matrices for different racial subgroups in your dataset, we can derive several insights about how the decision tree model performs across these groups. This analysis is vital for assessing potential biases in the model's predictions.\n",
        "\n",
        "### Confusion Matrix Interpretation\n",
        "\n",
        "Each confusion matrix provides a breakdown of the model's predictions for each racial subgroup:\n",
        "\n",
        "- The first row represents the True Negatives (TN), False Positives (FP), and False Negatives (FN) for class `0`.\n",
        "- The second row shows the TN, FP, and FN for class `1`.\n",
        "- The third row displays the TN, FP, and FN for class `-1`.\n",
        "\n",
        "### Analysis of Racial Subgroups\n",
        "\n",
        "1. **Caucasian Subgroup**\n",
        "   - The model has a relatively balanced performance but shows some misclassifications, especially between classes `1` and `-1`.\n",
        "   - The confusion matrix indicates a higher number of False Positives and False Negatives between these classes.\n",
        "\n",
        "2. **Hispanic Subgroup**\n",
        "   - The model performs reasonably well but with notable misclassifications between classes `1` and `-1`.\n",
        "   - The number of False Positives and False Negatives is significant, suggesting some degree of uncertainty in the model's predictions for this group.\n",
        "\n",
        "3. **Asian Subgroup**\n",
        "   - Given the small sample size, the model shows a decent performance with minimal misclassifications.\n",
        "   - However, the limited data points might not provide a comprehensive view of the model's performance for this group.\n",
        "\n",
        "4. **Native American Subgroup**\n",
        "   - The model's performance is difficult to assess due to the very small sample size.\n",
        "   - Some misclassifications are observed, but the small number of data points limits the conclusions that can be drawn.\n",
        "\n",
        "5. **African American Subgroup**\n",
        "   - This group shows a higher number of both False Positives and False Negatives, especially between classes `1` and `-1`.\n",
        "   - The model seems to struggle with distinguishing between these classes, indicating potential areas for improvement.\n",
        "\n",
        "6. **Other Subgroup**\n",
        "   - The model performs reasonably well, with some misclassifications observed.\n",
        "   - As with other subgroups, the model shows difficulty in accurately classifying between classes `1` and `-1`.\n",
        "\n",
        "### Overall Insights\n",
        "\n",
        "- The model shows varying degrees of performance across different racial groups, with some groups experiencing more misclassifications than others.\n",
        "- The significant number of False Positives and False Negatives in certain subgroups, especially between classes `1` and `-1`, suggests the model may have difficulty in consistently classifying cases in these categories.\n",
        "- It is crucial to consider the context of these results, including the representation of each group in the dataset and the real-world implications of these predictions.\n",
        "\n",
        "### Conclusion\n",
        "\n",
        "This analysis highlights the importance of examining machine learning models for potential biases across different demographic groups. Ensuring fairness and accuracy in model predictions is crucial, especially in sensitive domains like criminal justice.\n",
        "\n"
      ]
    },
    {
      "cell_type": "markdown",
      "metadata": {},
      "source": [
        "## Post-Processing"
      ]
    },
    {
      "cell_type": "code",
      "execution_count": 41,
      "metadata": {},
      "outputs": [
        {
          "name": "stdout",
          "output_type": "stream",
          "text": [
            "Adjusted Classification Report:\n",
            "              precision    recall  f1-score   support\n",
            "\n",
            "           0       0.77      0.75      0.76      2939\n",
            "           1       0.72      0.74      0.73      2556\n",
            "\n",
            "    accuracy                           0.75      5495\n",
            "   macro avg       0.75      0.75      0.75      5495\n",
            "weighted avg       0.75      0.75      0.75      5495\n",
            "\n",
            "Accuracy: 0.7481346678798908\n",
            "Confusion Matrix:\n",
            "[[2212  727]\n",
            " [ 657 1899]]\n"
          ]
        }
      ],
      "source": [
        "from sklearn.model_selection import train_test_split\n",
        "from sklearn.tree import DecisionTreeClassifier\n",
        "from sklearn.metrics import classification_report, accuracy_score\n",
        "from fairlearn.postprocessing import ThresholdOptimizer\n",
        "\n",
        "# Encode categorical columns\n",
        "categorical_cols = df.columns[df.dtypes == 'object']\n",
        "df_encoded = pd.get_dummies(df, columns=categorical_cols, drop_first=True)\n",
        "\n",
        "# Prepare features and target, converting is_recid to binary\n",
        "y_binary = (df['is_recid'] == 1).astype(int)  # 1 for recidivism, 0 otherwise\n",
        "X = df_encoded.drop(['is_recid'], axis=1)\n",
        "\n",
        "# Splitting the dataset\n",
        "X_train, X_test, y_train, y_test = train_test_split(X, y_binary, test_size=0.3, random_state=42)\n",
        "\n",
        "# Train the Decision Tree model\n",
        "clf = DecisionTreeClassifier(random_state=42)\n",
        "clf.fit(X_train, y_train)\n",
        "\n",
        "# Extract the sensitive feature for Fairlearn\n",
        "sensitive_features_train = X_train['race_African_American']\n",
        "sensitive_features_test = X_test['race_African_American']\n",
        "\n",
        "# Initialize and fit the ThresholdOptimizer\n",
        "postprocessor = ThresholdOptimizer(\n",
        "    estimator=clf,\n",
        "    constraints='equalized_odds',\n",
        "    prefit=True,\n",
        "    predict_method='predict_proba'  # Use predict_proba if your estimator supports it; it typically leads to better calibration\n",
        ")\n",
        "\n",
        "postprocessor.fit(X_train, y_train, sensitive_features=sensitive_features_train)\n",
        "\n",
        "# Make predictions on the test data using the fitted postprocessor\n",
        "y_pred_postprocessed = postprocessor.predict(X_test, sensitive_features=sensitive_features_test)\n",
        "\n",
        "# Evaluation\n",
        "print(\"Adjusted Classification Report:\")\n",
        "print(classification_report(y_test, y_pred_postprocessed))\n",
        "print(\"Accuracy:\", accuracy_score(y_test, y_pred_postprocessed))\n",
        "print(\"Confusion Matrix:\")\n",
        "print(confusion_matrix(y_test, y_pred_postprocessed))"
      ]
    },
    {
      "cell_type": "markdown",
      "metadata": {},
      "source": [
        "### Conclusion on Post-Processing to Mitigate Bias in Decision Tree Model\n",
        "\n",
        "The application of Fairlearn's post-processing tools to your decision tree model has produced notable changes in performance and fairness metrics, with the ultimate goal of reducing bias in predictions related to recidivism. The post-processing has been applied specifically to address fairness across racial subgroups, focusing on enhancing the equalized odds between different groups.\n",
        "\n",
        "#### Key Outcomes:\n",
        "\n",
        "- **Model Performance Metrics**:\n",
        "  - **Precision** for non-recidivism (class 0) improved to 0.77, and for recidivism (class 1), it is now 0.72.\n",
        "  - **Recall** for non-recidivism is 0.75, and for recidivism, it has increased to 0.74.\n",
        "  - **F1-Scores** are 0.76 for non-recidivism and 0.73 for recidivism, indicating a balanced performance between precision and recall.\n",
        "  - The overall **accuracy** of the model has improved to 74.81%, an increase from previous iterations.\n",
        "\n",
        "- **Confusion Matrix**:\n",
        "  - **True Negatives (TN)**: 2212\n",
        "  - **False Positives (FP)**: 727\n",
        "  - **False Negatives (FN)**: 657\n",
        "  - **True Positives (TP)**: 1899\n",
        "\n",
        "These results show a balanced improvement across both major classes, reflecting a more nuanced handling of the predictive challenges inherent in recidivism modeling.\n",
        "\n",
        "#### Analysis of Improvements:\n",
        "\n",
        "1. **Reduction in False Negatives**: The number of false negatives decreased from 715 to 657, indicating that the model is now better at identifying actual cases of recidivism. This reduction is crucial for applications in criminal justice where failing to predict true positive cases can have significant social consequences.\n",
        "\n",
        "2. **Increase in True Positives**: There is an increase in true positives, suggesting that the model has become more effective at correctly identifying recidivism, which is essential for ensuring appropriate interventions are made.\n",
        "\n",
        "3. **Increase in False Positives**: The rise in false positives, from 830 to 727, indicates a slight decrease compared to earlier post-processing attempts. While still elevated, this demonstrates a careful balance between avoiding false negatives and managing the rate of false positives.\n",
        "\n",
        "#### Points of Concern:\n",
        "\n",
        "1. **Increase in False Positives**: While the false positives have slightly decreased in the latest iteration, their number remains significant, suggesting the model tends to predict recidivism more conservatively. This can potentially lead to over-monitoring or unnecessary interventions for individuals incorrectly classified as likely to recidivate.\n",
        "\n",
        "#### Recommendations for Further Improvement:\n",
        "\n",
        "1. **Continuous Monitoring and Updating**: As with any model dealing with human behavior and societal implications, continuous monitoring is essential. Regular updates based on new data and feedback can help in fine-tuning the balance between different types of errors.\n",
        "\n",
        "2. **Stakeholder Engagement**: It is crucial to engage with stakeholders from the criminal justice system to understand the impact of false positives and false negatives better. Their insights can guide the adjustments in model thresholds to align with practical and ethical standards.\n",
        "\n",
        "3. **Exploration of Alternative Models and Techniques**: While post-processing has improved fairness, exploring other modeling techniques or more advanced machine learning algorithms might yield better results. Techniques such as ensemble models, advanced tree-based algorithms like XGBoost or Random Forest, or even deep learning might offer different advantages.\n",
        "\n",
        "4. **Fairness-Aware Model Tuning**: Continue to explore different fairness constraints and their impact on model performance. Adjustments in the post-processing phase should be carefully evaluated not just by their statistical outcomes but by their real-world implications.\n"
      ]
    },
    {
      "cell_type": "markdown",
      "metadata": {},
      "source": []
    }
  ],
  "metadata": {
    "colab": {
      "authorship_tag": "ABX9TyPyrqfhg/DxWkhGceb6wJh2",
      "include_colab_link": true,
      "provenance": []
    },
    "kernelspec": {
      "display_name": "Python 3",
      "name": "python3"
    },
    "language_info": {
      "codemirror_mode": {
        "name": "ipython",
        "version": 3
      },
      "file_extension": ".py",
      "mimetype": "text/x-python",
      "name": "python",
      "nbconvert_exporter": "python",
      "pygments_lexer": "ipython3",
      "version": "3.11.5"
    }
  },
  "nbformat": 4,
  "nbformat_minor": 0
}
