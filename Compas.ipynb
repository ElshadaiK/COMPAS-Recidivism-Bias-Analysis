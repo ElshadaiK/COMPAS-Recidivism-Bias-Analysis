{
  "nbformat": 4,
  "nbformat_minor": 0,
  "metadata": {
    "colab": {
      "provenance": [],
      "authorship_tag": "ABX9TyPyrqfhg/DxWkhGceb6wJh2",
      "include_colab_link": true
    },
    "kernelspec": {
      "name": "python3",
      "display_name": "Python 3"
    },
    "language_info": {
      "name": "python"
    }
  },
  "cells": [
    {
      "cell_type": "markdown",
      "metadata": {
        "id": "view-in-github",
        "colab_type": "text"
      },
      "source": [
        "<a href=\"https://colab.research.google.com/github/ElshadaiK/COMPAS-Recidivism-Bias-Analysis/blob/main/Compas.ipynb\" target=\"_parent\"><img src=\"https://colab.research.google.com/assets/colab-badge.svg\" alt=\"Open In Colab\"/></a>"
      ]
    },
    {
      "cell_type": "markdown",
      "source": [
        "# Data Cleaning"
      ],
      "metadata": {
        "id": "hGpo1dMWZI3R"
      }
    },
    {
      "cell_type": "markdown",
      "source": [
        "## Dataset Description"
      ],
      "metadata": {
        "id": "l0Dg8mXKWUSP"
      }
    },
    {
      "cell_type": "code",
      "execution_count": 78,
      "metadata": {
        "id": "UikgrjWeVSrW",
        "colab": {
          "base_uri": "https://localhost:8080/"
        },
        "outputId": "6098a4da-8af2-45b9-acf8-0ae03428623f"
      },
      "outputs": [
        {
          "output_type": "stream",
          "name": "stdout",
          "text": [
            "Dataset Information:\n",
            "<class 'pandas.core.frame.DataFrame'>\n",
            "RangeIndex: 18316 entries, 0 to 18315\n",
            "Data columns (total 52 columns):\n",
            " #   Column                   Non-Null Count  Dtype  \n",
            "---  ------                   --------------  -----  \n",
            " 0   id                       11001 non-null  float64\n",
            " 1   name                     18316 non-null  object \n",
            " 2   first                    18316 non-null  object \n",
            " 3   last                     18316 non-null  object \n",
            " 4   compas_screening_date    18316 non-null  object \n",
            " 5   sex                      18316 non-null  object \n",
            " 6   dob                      18316 non-null  object \n",
            " 7   age                      18316 non-null  int64  \n",
            " 8   age_cat                  18316 non-null  object \n",
            " 9   race                     18316 non-null  object \n",
            " 10  juv_fel_count            18316 non-null  int64  \n",
            " 11  decile_score             18316 non-null  int64  \n",
            " 12  juv_misd_count           18316 non-null  int64  \n",
            " 13  juv_other_count          18316 non-null  int64  \n",
            " 14  priors_count             18316 non-null  int64  \n",
            " 15  days_b_screening_arrest  17019 non-null  float64\n",
            " 16  c_jail_in                17019 non-null  object \n",
            " 17  c_jail_out               17019 non-null  object \n",
            " 18  c_case_number            17449 non-null  object \n",
            " 19  c_offense_date           14364 non-null  object \n",
            " 20  c_arrest_date            3085 non-null   object \n",
            " 21  c_days_from_compas       17449 non-null  float64\n",
            " 22  c_charge_degree          17449 non-null  object \n",
            " 23  c_charge_desc            17435 non-null  object \n",
            " 24  is_recid                 18316 non-null  int64  \n",
            " 25  r_case_number            8417 non-null   object \n",
            " 26  r_charge_degree          8417 non-null   object \n",
            " 27  r_days_from_arrest       6359 non-null   float64\n",
            " 28  r_offense_date           8417 non-null   object \n",
            " 29  r_charge_desc            8277 non-null   object \n",
            " 30  r_jail_in                6359 non-null   object \n",
            " 31  r_jail_out               6359 non-null   object \n",
            " 32  violent_recid            0 non-null      float64\n",
            " 33  is_violent_recid         18316 non-null  int64  \n",
            " 34  vr_case_number           1339 non-null   object \n",
            " 35  vr_charge_degree         1339 non-null   object \n",
            " 36  vr_offense_date          1339 non-null   object \n",
            " 37  vr_charge_desc           1339 non-null   object \n",
            " 38  type_of_assessment       18316 non-null  object \n",
            " 39  decile_score.1           18316 non-null  int64  \n",
            " 40  score_text               18293 non-null  object \n",
            " 41  screening_date           18316 non-null  object \n",
            " 42  v_type_of_assessment     18316 non-null  object \n",
            " 43  v_decile_score           18316 non-null  int64  \n",
            " 44  v_score_text             18310 non-null  object \n",
            " 45  v_screening_date         18316 non-null  object \n",
            " 46  in_custody               17722 non-null  object \n",
            " 47  out_custody              17722 non-null  object \n",
            " 48  priors_count.1           18316 non-null  int64  \n",
            " 49  start                    18316 non-null  int64  \n",
            " 50  end                      18316 non-null  int64  \n",
            " 51  event                    18316 non-null  int64  \n",
            "dtypes: float64(5), int64(14), object(33)\n",
            "memory usage: 7.3+ MB\n",
            "None\n",
            "\n",
            "First 5 Rows of the Dataset:\n",
            "    id              name    first       last compas_screening_date   sex  \\\n",
            "0  1.0  miguel hernandez   miguel  hernandez            14/08/2013  Male   \n",
            "1  2.0  miguel hernandez   miguel  hernandez            14/08/2013  Male   \n",
            "2  3.0      michael ryan  michael       ryan            31/12/2014  Male   \n",
            "3  4.0       kevon dixon    kevon      dixon            27/01/2013  Male   \n",
            "4  5.0          ed philo       ed      philo            14/04/2013  Male   \n",
            "\n",
            "          dob  age          age_cat              race  ...  \\\n",
            "0  18/04/1947   69  Greater than 45             Other  ...   \n",
            "1  18/04/1947   69  Greater than 45             Other  ...   \n",
            "2  06/02/1985   31          25 - 45         Caucasian  ...   \n",
            "3  22/01/1982   34          25 - 45  African-American  ...   \n",
            "4  14/05/1991   24     Less than 25  African-American  ...   \n",
            "\n",
            "   v_type_of_assessment  v_decile_score  v_score_text  v_screening_date  \\\n",
            "0      Risk of Violence               1           Low        14/08/2013   \n",
            "1      Risk of Violence               1           Low        14/08/2013   \n",
            "2      Risk of Violence               2           Low        31/12/2014   \n",
            "3      Risk of Violence               1           Low        27/01/2013   \n",
            "4      Risk of Violence               3           Low        14/04/2013   \n",
            "\n",
            "   in_custody  out_custody priors_count.1 start  end event  \n",
            "0  07/07/2014   14/07/2014              0     0  327     0  \n",
            "1  07/07/2014   14/07/2014              0   334  961     0  \n",
            "2  30/12/2014   03/01/2015              0     3  457     0  \n",
            "3  26/01/2013   05/02/2013              0     9  159     1  \n",
            "4  16/06/2013   16/06/2013              4     0   63     0  \n",
            "\n",
            "[5 rows x 52 columns]\n",
            "\n",
            "Missing Values in Each Column:\n",
            "id                          7315\n",
            "name                           0\n",
            "first                          0\n",
            "last                           0\n",
            "compas_screening_date          0\n",
            "sex                            0\n",
            "dob                            0\n",
            "age                            0\n",
            "age_cat                        0\n",
            "race                           0\n",
            "juv_fel_count                  0\n",
            "decile_score                   0\n",
            "juv_misd_count                 0\n",
            "juv_other_count                0\n",
            "priors_count                   0\n",
            "days_b_screening_arrest     1297\n",
            "c_jail_in                   1297\n",
            "c_jail_out                  1297\n",
            "c_case_number                867\n",
            "c_offense_date              3952\n",
            "c_arrest_date              15231\n",
            "c_days_from_compas           867\n",
            "c_charge_degree              867\n",
            "c_charge_desc                881\n",
            "is_recid                       0\n",
            "r_case_number               9899\n",
            "r_charge_degree             9899\n",
            "r_days_from_arrest         11957\n",
            "r_offense_date              9899\n",
            "r_charge_desc              10039\n",
            "r_jail_in                  11957\n",
            "r_jail_out                 11957\n",
            "violent_recid              18316\n",
            "is_violent_recid               0\n",
            "vr_case_number             16977\n",
            "vr_charge_degree           16977\n",
            "vr_offense_date            16977\n",
            "vr_charge_desc             16977\n",
            "type_of_assessment             0\n",
            "decile_score.1                 0\n",
            "score_text                    23\n",
            "screening_date                 0\n",
            "v_type_of_assessment           0\n",
            "v_decile_score                 0\n",
            "v_score_text                   6\n",
            "v_screening_date               0\n",
            "in_custody                   594\n",
            "out_custody                  594\n",
            "priors_count.1                 0\n",
            "start                          0\n",
            "end                            0\n",
            "event                          0\n",
            "dtype: int64\n"
          ]
        }
      ],
      "source": [
        "# Importing the necessary library\n",
        "import pandas as pd\n",
        "\n",
        "# Loading the dataset\n",
        "df = pd.read_csv('cox-violent-parsed.csv')\n",
        "\n",
        "# Displaying basic information about the dataset\n",
        "print(\"Dataset Information:\")\n",
        "print(df.info())\n",
        "\n",
        "# Displaying the first few rows of the dataset for a preview\n",
        "print(\"\\nFirst 5 Rows of the Dataset:\")\n",
        "print(df.head())\n",
        "\n",
        "# Checking for missing values in each column\n",
        "print(\"\\nMissing Values in Each Column:\")\n",
        "print(df.isnull().sum())\n"
      ]
    },
    {
      "cell_type": "markdown",
      "source": [
        "**Note**: This section loads the COMPAS dataset and provides basic information. The dataset contains details about individuals involved in the criminal justice system, along with various attributes like age, race, charge descriptions, and COMPAS scores (used for assessing recidivism risk). The initial exploration includes checking for missing values, which is crucial for understanding the dataset's quality."
      ],
      "metadata": {
        "id": "k-Uxe3owWX3I"
      }
    },
    {
      "cell_type": "markdown",
      "source": [
        "## Data Cleaning and Preprocessing"
      ],
      "metadata": {
        "id": "CQBgh1E-XAqi"
      }
    },
    {
      "cell_type": "markdown",
      "source": [
        "### Dropping Columns with High Missing Values"
      ],
      "metadata": {
        "id": "60L1JpkxXxYK"
      }
    },
    {
      "cell_type": "code",
      "source": [
        "# Dropping columns with a high number of missing values\n",
        "# These columns are removed because they have too many missing entries,\n",
        "# which makes them unreliable for analysis.\n",
        "df.drop(['violent_recid', 'vr_case_number', 'vr_charge_desc', 'c_case_number'], axis=1, inplace=True)\n"
      ],
      "metadata": {
        "id": "FIIHlbpmXzbJ"
      },
      "execution_count": 79,
      "outputs": []
    },
    {
      "cell_type": "markdown",
      "source": [
        "**Explanation**: In this cell, columns with a significant number of missing values are being dropped from the dataset. Columns like 'violent_recid', 'vr_case_number', 'vr_charge_desc', and 'c_case_number' are removed because their high level of missing data could skew the analysis and lead to unreliable conclusions."
      ],
      "metadata": {
        "id": "hgme-vBeX7vr"
      }
    },
    {
      "cell_type": "markdown",
      "source": [
        "### Converting Date Columns"
      ],
      "metadata": {
        "id": "EDOf8q2SYJad"
      }
    },
    {
      "cell_type": "code",
      "source": [
        "# Converting date columns to datetime format and extracting year and month\n",
        "# This conversion is necessary to use these dates in a meaningful way in the analysis.\n",
        "df['c_arrest_date'] = pd.to_datetime(df['c_arrest_date'], format='%d/%m/%Y', errors='coerce')\n",
        "df['c_arrest_year'] = df['c_arrest_date'].dt.year\n",
        "df['c_arrest_month'] = df['c_arrest_date'].dt.month\n",
        "\n",
        "# Similar conversions for other date columns\n",
        "df['r_offense_date'] = pd.to_datetime(df['r_offense_date'], format='%d/%m/%Y', errors='coerce')\n",
        "df['r_offense_year'] = df['r_offense_date'].dt.year\n",
        "df['r_offense_month'] = df['r_offense_date'].dt.month\n"
      ],
      "metadata": {
        "id": "IkGySDzUX4zJ"
      },
      "execution_count": 80,
      "outputs": []
    },
    {
      "cell_type": "markdown",
      "source": [
        "**Explanation**: This cell converts various date columns from string format to Python datetime objects. This conversion allows for easier manipulation and extraction of specific components like the year and month, which are often more useful for analysis than the full date."
      ],
      "metadata": {
        "id": "m8myHPhHYUgU"
      }
    },
    {
      "cell_type": "markdown",
      "source": [
        "### Calculating Jail Duration"
      ],
      "metadata": {
        "id": "t42u4ui3YYuW"
      }
    },
    {
      "cell_type": "code",
      "source": [
        "# Converting jail in and out dates to datetime and calculating the duration of jail time\n",
        "# The duration in jail could be a significant factor in the analysis.\n",
        "df['r_jail_in'] = pd.to_datetime(df['r_jail_in'], format='%d/%m/%Y', errors='coerce')\n",
        "df['r_jail_out'] = pd.to_datetime(df['r_jail_out'], format='%d/%m/%Y', errors='coerce')\n",
        "df['c_jail_in'] = pd.to_datetime(df['c_jail_in'], format='%d/%m/%Y', errors='coerce')\n",
        "df['c_jail_out'] = pd.to_datetime(df['c_jail_out'], format='%d/%m/%Y', errors='coerce')\n",
        "\n",
        "df['r_jail_duration'] = (df['r_jail_out'] - df['r_jail_in']).dt.days\n",
        "df['c_jail_duration'] = (df['c_jail_out'] - df['c_jail_in']).dt.days\n"
      ],
      "metadata": {
        "id": "OW3dUm6eYb71"
      },
      "execution_count": 81,
      "outputs": []
    },
    {
      "cell_type": "markdown",
      "source": [
        "**Explanation**: In this cell, the 'in' and 'out' jail dates are converted to datetime format, and the duration of each jail stay is calculated. This information is valuable as it quantifies the time spent in jail, which might be a relevant factor in the analysis, especially for assessing recidivism risk or other behavioral patterns."
      ],
      "metadata": {
        "id": "EVG27qJDYgXW"
      }
    },
    {
      "cell_type": "markdown",
      "source": [
        "### Dropping Original Date Columns and Personal Identifying Information"
      ],
      "metadata": {
        "id": "d9e6fDPyYihI"
      }
    },
    {
      "cell_type": "code",
      "source": [
        "# Dropping the original date columns and personal identifying information\n",
        "# Personal information is removed for privacy, and original date columns are dropped\n",
        "# as they are no longer needed after extracting the year, month, and duration.\n",
        "df.drop(['c_arrest_date', 'r_offense_date', 'r_jail_in', 'r_jail_out', 'c_jail_in', 'c_jail_out',\n",
        "         'id', 'name', 'first', 'last'], axis=1, inplace=True)"
      ],
      "metadata": {
        "id": "3HOICsHUYmP8"
      },
      "execution_count": 82,
      "outputs": []
    },
    {
      "cell_type": "markdown",
      "source": [
        "**Explanation**: This cell removes personal identifying information (like names and IDs) to ensure privacy and confidentiality. Additionally, original date columns are dropped since the necessary information (year, month, duration) has already been extracted."
      ],
      "metadata": {
        "id": "0Ui3YTJkYrC8"
      }
    },
    {
      "cell_type": "markdown",
      "source": [
        "### One-Hot Encoding of Categorical Variables"
      ],
      "metadata": {
        "id": "695IPRhaYvXB"
      }
    },
    {
      "cell_type": "code",
      "source": [
        "# Check unique values in the 'race' column before one-hot encoding\n",
        "print(\"Unique race categories before one-hot encoding:\", df['race'].unique())\n"
      ],
      "metadata": {
        "colab": {
          "base_uri": "https://localhost:8080/"
        },
        "id": "R6MleOM_hATz",
        "outputId": "06419d4d-7eeb-41cf-fcbf-fddb190a0644"
      },
      "execution_count": 83,
      "outputs": [
        {
          "output_type": "stream",
          "name": "stdout",
          "text": [
            "Unique race categories before one-hot encoding: ['Other' 'Caucasian' 'African-American' 'Hispanic' 'Asian'\n",
            " 'Native American']\n"
          ]
        }
      ]
    },
    {
      "cell_type": "code",
      "source": [
        "# Check unique values in the 'sex' column before one-hot encoding\n",
        "print(\"Unique sex categories before one-hot encoding:\", df['sex'].unique())\n"
      ],
      "metadata": {
        "colab": {
          "base_uri": "https://localhost:8080/"
        },
        "id": "8QCVG_DIh_24",
        "outputId": "a500df6f-0d40-4e27-9363-f4dec8e05c31"
      },
      "execution_count": 85,
      "outputs": [
        {
          "output_type": "stream",
          "name": "stdout",
          "text": [
            "Unique sex categories before one-hot encoding: ['Male' 'Female']\n"
          ]
        }
      ]
    },
    {
      "cell_type": "code",
      "source": [
        "# Replace spaces with underscores in the 'race' column\n",
        "df['race'] = df['race'].str.replace(' ', '_')\n"
      ],
      "metadata": {
        "id": "ofl_v3P-hDwG"
      },
      "execution_count": 86,
      "outputs": []
    },
    {
      "cell_type": "code",
      "source": [
        "# Manually create a column for 'African-American'\n",
        "df['race_African_American'] = df['race'].apply(lambda x: 1 if x == 'African-American' else 0)\n"
      ],
      "metadata": {
        "id": "BO_zsMB-iWM0"
      },
      "execution_count": 87,
      "outputs": []
    },
    {
      "cell_type": "code",
      "source": [
        "# Converting categorical variables (like race, sex) into numerical format using one-hot encoding\n",
        "# One-hot encoding creates new columns indicating the presence of each possible value in the original data.\n",
        "df = pd.get_dummies(df, columns=['race', 'sex', 'age_cat', 'c_charge_degree'], drop_first=True)"
      ],
      "metadata": {
        "id": "INuRdT65Ytin"
      },
      "execution_count": 88,
      "outputs": []
    },
    {
      "cell_type": "markdown",
      "source": [
        "**Explanation**: Categorical variables are transformed into a numerical format using one-hot encoding. This process is crucial for machine learning models, as they require numerical input. One-hot encoding creates a separate column for each category within a variable, marked with 1 if the category is present and 0 otherwise."
      ],
      "metadata": {
        "id": "Air8dPapY1Fa"
      }
    },
    {
      "cell_type": "markdown",
      "source": [
        "### Further Data Cleaning"
      ],
      "metadata": {
        "id": "UuxHK6jkY3Sj"
      }
    },
    {
      "cell_type": "code",
      "source": [
        "# Dropping duplicate or redundant columns and calculating age at COMPAS screening\n",
        "# Redundant columns are removed, and age at screening is calculated for further analysis.\n",
        "df.drop(['decile_score.1', 'priors_count.1'], axis=1, inplace=True)\n",
        "\n",
        "df['compas_screening_date'] = pd.to_datetime(df['compas_screening_date'], format='%d/%m/%Y', errors='coerce')\n",
        "df['dob'] = pd.to_datetime(df['dob'], format='%d/%m/%Y', errors='coerce')\n",
        "df['age_at_screening'] = df['compas_screening_date'].dt.year - df['dob'].dt.year\n",
        "df.drop(['dob', 'compas_screening_date'], axis=1, inplace=True)\n",
        "\n",
        "# Handling missing values in various columns\n",
        "df['days_b_screening_arrest'].fillna(df['days_b_screening_arrest'].median(), inplace=True)\n",
        "df['c_charge_desc'].fillna('Unknown', inplace=True)\n",
        "\n",
        "# Creating a new field for total prior offenses\n",
        "df['total_prior_offenses'] = df['juv_fel_count'] + df['juv_misd_count'] + df['juv_other_count']\n",
        "\n",
        "# Further handling of missing values\n",
        "columns_to_drop = ['c_offense_date', 'r_case_number', 'r_charge_degree', 'r_days_from_arrest', 'r_charge_desc',\n",
        "                   'vr_charge_degree', 'vr_offense_date', 'c_arrest_year', 'c_arrest_month',\n",
        "                   'r_offense_year', 'r_offense_month', 'r_jail_duration', 'c_jail_duration']\n",
        "df.drop(columns_to_drop, axis=1, inplace=True)\n",
        "df['c_days_from_compas'].fillna(df['c_days_from_compas'].median(), inplace=True)\n",
        "df['in_custody'].fillna('Unknown', inplace=True)\n",
        "df['out_custody'].fillna('Unknown', inplace=True)\n",
        "df['score_text'].fillna(df['score_text'].mode()[0], inplace=True)\n",
        "df['v_score_text'].fillna(df['v_score_text'].mode()[0], inplace=True)\n",
        "\n",
        "# Final check for missing values\n",
        "print(\"Final result after handling missing values:\")\n",
        "print(df.isnull().sum())\n"
      ],
      "metadata": {
        "colab": {
          "base_uri": "https://localhost:8080/"
        },
        "id": "i0kI4BpuY7zF",
        "outputId": "de3683b9-f4b1-4743-ad74-16f682a28605"
      },
      "execution_count": 90,
      "outputs": [
        {
          "output_type": "stream",
          "name": "stdout",
          "text": [
            "Final result after handling missing values:\n",
            "age                        0\n",
            "juv_fel_count              0\n",
            "decile_score               0\n",
            "juv_misd_count             0\n",
            "juv_other_count            0\n",
            "priors_count               0\n",
            "days_b_screening_arrest    0\n",
            "c_days_from_compas         0\n",
            "c_charge_desc              0\n",
            "is_recid                   0\n",
            "is_violent_recid           0\n",
            "type_of_assessment         0\n",
            "score_text                 0\n",
            "screening_date             0\n",
            "v_type_of_assessment       0\n",
            "v_decile_score             0\n",
            "v_score_text               0\n",
            "v_screening_date           0\n",
            "in_custody                 0\n",
            "out_custody                0\n",
            "start                      0\n",
            "end                        0\n",
            "event                      0\n",
            "race_African_American      0\n",
            "race_Asian                 0\n",
            "race_Caucasian             0\n",
            "race_Hispanic              0\n",
            "race_Native_American       0\n",
            "race_Other                 0\n",
            "sex_Male                   0\n",
            "age_cat_Greater than 45    0\n",
            "age_cat_Less than 25       0\n",
            "c_charge_degree_(CT)       0\n",
            "c_charge_degree_(F1)       0\n",
            "c_charge_degree_(F2)       0\n",
            "c_charge_degree_(F3)       0\n",
            "c_charge_degree_(F5)       0\n",
            "c_charge_degree_(F6)       0\n",
            "c_charge_degree_(F7)       0\n",
            "c_charge_degree_(M1)       0\n",
            "c_charge_degree_(M2)       0\n",
            "c_charge_degree_(MO3)      0\n",
            "c_charge_degree_(NI0)      0\n",
            "c_charge_degree_(TCX)      0\n",
            "c_charge_degree_(X)        0\n",
            "age_at_screening           0\n",
            "total_prior_offenses       0\n",
            "dtype: int64\n"
          ]
        }
      ]
    },
    {
      "cell_type": "markdown",
      "source": [
        "**Explanation**: This cell includes the final stages of data cleaning. It involves dropping unnecessary or redundant columns, filling in missing values, and creating new variables that might be relevant to the analysis. The goal is to ensure that the dataset is complete, accurate, and ready for machine learning modeling."
      ],
      "metadata": {
        "id": "BMlrvtfZZAHH"
      }
    },
    {
      "cell_type": "markdown",
      "source": [
        "# Building the Decision Tree Model"
      ],
      "metadata": {
        "id": "SKx5-OkdZQaU"
      }
    },
    {
      "cell_type": "markdown",
      "source": [
        "### Preparing Data for the Model"
      ],
      "metadata": {
        "id": "27YqEJj4Zvt7"
      }
    },
    {
      "cell_type": "code",
      "source": [
        "from sklearn.model_selection import train_test_split\n",
        "\n",
        "# Preparing data for the model\n",
        "# We are dropping columns that are not needed for prediction\n",
        "# and defining 'is_recid' as our target variable.\n",
        "X = df.drop(['is_recid', 'c_charge_desc', 'type_of_assessment', 'score_text',\n",
        "             'screening_date', 'v_type_of_assessment', 'v_score_text',\n",
        "             'v_screening_date', 'in_custody', 'out_custody'], axis=1)\n",
        "y = df['is_recid']\n"
      ],
      "metadata": {
        "id": "n0H7lNzqZRjW"
      },
      "execution_count": 91,
      "outputs": []
    },
    {
      "cell_type": "markdown",
      "source": [
        "Explanation: This cell prepares the dataset for the decision tree model. Features (`X`) and the target variable (`y`) are defined. The target variable `is_recid` represents whether recidivism occurred, which is what the model will predict. Columns that are not relevant for the prediction or are textual descriptions are dropped to focus the model on meaningful predictors."
      ],
      "metadata": {
        "id": "47N7rGcYZ4fn"
      }
    },
    {
      "cell_type": "markdown",
      "source": [
        "### Splitting the Dataset"
      ],
      "metadata": {
        "id": "4nGZT3BIaBMw"
      }
    },
    {
      "cell_type": "code",
      "source": [
        "# Splitting the dataset into training and testing sets\n",
        "X_train, X_test, y_train, y_test = train_test_split(X, y, test_size=0.3, random_state=42)\n"
      ],
      "metadata": {
        "id": "aUTMtWQ-Z1wC"
      },
      "execution_count": 92,
      "outputs": []
    },
    {
      "cell_type": "markdown",
      "source": [
        "**Explanation**: The dataset is split into training and testing sets. This is a standard practice in machine learning to assess a model's performance. The training set is used to train the model, and the testing set is used to evaluate its performance."
      ],
      "metadata": {
        "id": "UPUBtabnaGcL"
      }
    },
    {
      "cell_type": "markdown",
      "source": [
        "### Creating and Training the Decision Tree Classifier"
      ],
      "metadata": {
        "id": "vq27OHrMaJ-R"
      }
    },
    {
      "cell_type": "code",
      "source": [
        "from sklearn.tree import DecisionTreeClassifier\n",
        "\n",
        "# Creating and training the decision tree classifier\n",
        "clf = DecisionTreeClassifier(random_state=42)\n",
        "clf.fit(X_train, y_train)\n"
      ],
      "metadata": {
        "colab": {
          "base_uri": "https://localhost:8080/",
          "height": 75
        },
        "id": "heu_7lrqaEYB",
        "outputId": "8bca26c3-2972-4448-8cac-79f63ecdc2c3"
      },
      "execution_count": 93,
      "outputs": [
        {
          "output_type": "execute_result",
          "data": {
            "text/plain": [
              "DecisionTreeClassifier(random_state=42)"
            ],
            "text/html": [
              "<style>#sk-container-id-2 {color: black;background-color: white;}#sk-container-id-2 pre{padding: 0;}#sk-container-id-2 div.sk-toggleable {background-color: white;}#sk-container-id-2 label.sk-toggleable__label {cursor: pointer;display: block;width: 100%;margin-bottom: 0;padding: 0.3em;box-sizing: border-box;text-align: center;}#sk-container-id-2 label.sk-toggleable__label-arrow:before {content: \"▸\";float: left;margin-right: 0.25em;color: #696969;}#sk-container-id-2 label.sk-toggleable__label-arrow:hover:before {color: black;}#sk-container-id-2 div.sk-estimator:hover label.sk-toggleable__label-arrow:before {color: black;}#sk-container-id-2 div.sk-toggleable__content {max-height: 0;max-width: 0;overflow: hidden;text-align: left;background-color: #f0f8ff;}#sk-container-id-2 div.sk-toggleable__content pre {margin: 0.2em;color: black;border-radius: 0.25em;background-color: #f0f8ff;}#sk-container-id-2 input.sk-toggleable__control:checked~div.sk-toggleable__content {max-height: 200px;max-width: 100%;overflow: auto;}#sk-container-id-2 input.sk-toggleable__control:checked~label.sk-toggleable__label-arrow:before {content: \"▾\";}#sk-container-id-2 div.sk-estimator input.sk-toggleable__control:checked~label.sk-toggleable__label {background-color: #d4ebff;}#sk-container-id-2 div.sk-label input.sk-toggleable__control:checked~label.sk-toggleable__label {background-color: #d4ebff;}#sk-container-id-2 input.sk-hidden--visually {border: 0;clip: rect(1px 1px 1px 1px);clip: rect(1px, 1px, 1px, 1px);height: 1px;margin: -1px;overflow: hidden;padding: 0;position: absolute;width: 1px;}#sk-container-id-2 div.sk-estimator {font-family: monospace;background-color: #f0f8ff;border: 1px dotted black;border-radius: 0.25em;box-sizing: border-box;margin-bottom: 0.5em;}#sk-container-id-2 div.sk-estimator:hover {background-color: #d4ebff;}#sk-container-id-2 div.sk-parallel-item::after {content: \"\";width: 100%;border-bottom: 1px solid gray;flex-grow: 1;}#sk-container-id-2 div.sk-label:hover label.sk-toggleable__label {background-color: #d4ebff;}#sk-container-id-2 div.sk-serial::before {content: \"\";position: absolute;border-left: 1px solid gray;box-sizing: border-box;top: 0;bottom: 0;left: 50%;z-index: 0;}#sk-container-id-2 div.sk-serial {display: flex;flex-direction: column;align-items: center;background-color: white;padding-right: 0.2em;padding-left: 0.2em;position: relative;}#sk-container-id-2 div.sk-item {position: relative;z-index: 1;}#sk-container-id-2 div.sk-parallel {display: flex;align-items: stretch;justify-content: center;background-color: white;position: relative;}#sk-container-id-2 div.sk-item::before, #sk-container-id-2 div.sk-parallel-item::before {content: \"\";position: absolute;border-left: 1px solid gray;box-sizing: border-box;top: 0;bottom: 0;left: 50%;z-index: -1;}#sk-container-id-2 div.sk-parallel-item {display: flex;flex-direction: column;z-index: 1;position: relative;background-color: white;}#sk-container-id-2 div.sk-parallel-item:first-child::after {align-self: flex-end;width: 50%;}#sk-container-id-2 div.sk-parallel-item:last-child::after {align-self: flex-start;width: 50%;}#sk-container-id-2 div.sk-parallel-item:only-child::after {width: 0;}#sk-container-id-2 div.sk-dashed-wrapped {border: 1px dashed gray;margin: 0 0.4em 0.5em 0.4em;box-sizing: border-box;padding-bottom: 0.4em;background-color: white;}#sk-container-id-2 div.sk-label label {font-family: monospace;font-weight: bold;display: inline-block;line-height: 1.2em;}#sk-container-id-2 div.sk-label-container {text-align: center;}#sk-container-id-2 div.sk-container {/* jupyter's `normalize.less` sets `[hidden] { display: none; }` but bootstrap.min.css set `[hidden] { display: none !important; }` so we also need the `!important` here to be able to override the default hidden behavior on the sphinx rendered scikit-learn.org. See: https://github.com/scikit-learn/scikit-learn/issues/21755 */display: inline-block !important;position: relative;}#sk-container-id-2 div.sk-text-repr-fallback {display: none;}</style><div id=\"sk-container-id-2\" class=\"sk-top-container\"><div class=\"sk-text-repr-fallback\"><pre>DecisionTreeClassifier(random_state=42)</pre><b>In a Jupyter environment, please rerun this cell to show the HTML representation or trust the notebook. <br />On GitHub, the HTML representation is unable to render, please try loading this page with nbviewer.org.</b></div><div class=\"sk-container\" hidden><div class=\"sk-item\"><div class=\"sk-estimator sk-toggleable\"><input class=\"sk-toggleable__control sk-hidden--visually\" id=\"sk-estimator-id-2\" type=\"checkbox\" checked><label for=\"sk-estimator-id-2\" class=\"sk-toggleable__label sk-toggleable__label-arrow\">DecisionTreeClassifier</label><div class=\"sk-toggleable__content\"><pre>DecisionTreeClassifier(random_state=42)</pre></div></div></div></div></div>"
            ]
          },
          "metadata": {},
          "execution_count": 93
        }
      ]
    },
    {
      "cell_type": "markdown",
      "source": [
        "**Explanation**: A decision tree classifier is created and trained on the training data. Decision trees are a type of model that make decisions based on the values of the input features, making them interpretable and suitable for understanding how different factors contribute to the outcome."
      ],
      "metadata": {
        "id": "5RTAuQw1aSKb"
      }
    },
    {
      "cell_type": "markdown",
      "source": [
        "### Making Predictions and Evaluating the Model"
      ],
      "metadata": {
        "id": "LbpIIbFUaWn3"
      }
    },
    {
      "cell_type": "code",
      "source": [
        "from sklearn.metrics import classification_report\n",
        "\n",
        "# Making predictions on the test set\n",
        "y_pred = clf.predict(X_test)\n",
        "\n",
        "# Evaluating the model's performance\n",
        "print(\"Classification Report:\")\n",
        "print(classification_report(y_test, y_pred))\n"
      ],
      "metadata": {
        "colab": {
          "base_uri": "https://localhost:8080/"
        },
        "id": "CT8RUTDpaO6H",
        "outputId": "a458cdd3-92dc-4360-852f-6eb5353bfef8"
      },
      "execution_count": 94,
      "outputs": [
        {
          "output_type": "stream",
          "name": "stdout",
          "text": [
            "Classification Report:\n",
            "              precision    recall  f1-score   support\n",
            "\n",
            "          -1       0.94      0.95      0.95       225\n",
            "           0       0.70      0.70      0.70      2714\n",
            "           1       0.68      0.69      0.68      2556\n",
            "\n",
            "    accuracy                           0.70      5495\n",
            "   macro avg       0.77      0.78      0.78      5495\n",
            "weighted avg       0.70      0.70      0.70      5495\n",
            "\n"
          ]
        }
      ]
    },
    {
      "cell_type": "markdown",
      "source": [
        "**Explanation**: The trained model is used to make predictions on the test set. The performance of the model is then evaluated using a classification report, which provides metrics such as `accuracy`, `precision`, `recall`, and `F1-score`."
      ],
      "metadata": {
        "id": "tpPzhB2LaiHR"
      }
    },
    {
      "cell_type": "markdown",
      "source": [
        "# Analysis"
      ],
      "metadata": {
        "id": "MLgbZvYCaqnA"
      }
    },
    {
      "cell_type": "markdown",
      "source": [
        "### Analyzing Feature Importance"
      ],
      "metadata": {
        "id": "r0_IG5XAa3Rr"
      }
    },
    {
      "cell_type": "code",
      "source": [
        "import pandas as pd\n",
        "import numpy as np\n",
        "\n",
        "# Analyzing feature importance\n",
        "importances = pd.DataFrame({'feature':X_train.columns, 'importance':np.round(clf.feature_importances_, 3)})\n",
        "importances = importances.sort_values('importance', ascending=False).set_index('feature')\n",
        "print(\"Feature Importances:\")\n",
        "print(importances)\n"
      ],
      "metadata": {
        "colab": {
          "base_uri": "https://localhost:8080/"
        },
        "id": "DVJfHbSjaaIQ",
        "outputId": "8818e552-59ac-4694-a7c5-aa1e0f19e46c"
      },
      "execution_count": 95,
      "outputs": [
        {
          "output_type": "stream",
          "name": "stdout",
          "text": [
            "Feature Importances:\n",
            "                         importance\n",
            "feature                            \n",
            "end                           0.203\n",
            "start                         0.196\n",
            "priors_count                  0.065\n",
            "age_at_screening              0.055\n",
            "age                           0.054\n",
            "v_decile_score                0.046\n",
            "c_charge_degree_(F3)          0.046\n",
            "is_violent_recid              0.045\n",
            "decile_score                  0.044\n",
            "c_days_from_compas            0.043\n",
            "days_b_screening_arrest       0.036\n",
            "c_charge_degree_(M1)          0.027\n",
            "c_charge_degree_(F2)          0.026\n",
            "c_charge_degree_(M2)          0.025\n",
            "sex_Male                      0.015\n",
            "total_prior_offenses          0.011\n",
            "c_charge_degree_(F1)          0.008\n",
            "race_Caucasian                0.008\n",
            "race_African_American         0.008\n",
            "race_Hispanic                 0.006\n",
            "c_charge_degree_(MO3)         0.006\n",
            "juv_other_count               0.005\n",
            "c_charge_degree_(F7)          0.004\n",
            "race_Other                    0.004\n",
            "juv_fel_count                 0.004\n",
            "age_cat_Less than 25          0.003\n",
            "juv_misd_count                0.003\n",
            "race_Asian                    0.001\n",
            "age_cat_Greater than 45       0.001\n",
            "c_charge_degree_(CT)          0.000\n",
            "race_Native_American          0.000\n",
            "c_charge_degree_(F6)          0.000\n",
            "event                         0.000\n",
            "c_charge_degree_(NI0)         0.000\n",
            "c_charge_degree_(TCX)         0.000\n",
            "c_charge_degree_(X)           0.000\n",
            "c_charge_degree_(F5)          0.000\n"
          ]
        }
      ]
    },
    {
      "cell_type": "markdown",
      "source": [
        "**Explanation**: This cell analyzes which features are most important in the decision-making process of the model. Feature importance helps to understand which variables have the most significant influence on predicting recidivism."
      ],
      "metadata": {
        "id": "t28-Dtuga-AJ"
      }
    },
    {
      "cell_type": "markdown",
      "source": [
        "### Visualizing the Decision Tree"
      ],
      "metadata": {
        "id": "zUttiWqgbBjf"
      }
    },
    {
      "cell_type": "code",
      "source": [
        "unique_classes = y.unique()\n",
        "print(\"Unique classes in the target variable:\", unique_classes)\n",
        "num_classes = len(unique_classes)\n",
        "print(\"Number of unique classes:\", num_classes)\n"
      ],
      "metadata": {
        "colab": {
          "base_uri": "https://localhost:8080/"
        },
        "id": "lLJuNjsFbpYd",
        "outputId": "6130974e-321a-4b38-c3d7-e6d7ad9cb83d"
      },
      "execution_count": 96,
      "outputs": [
        {
          "output_type": "stream",
          "name": "stdout",
          "text": [
            "Unique classes in the target variable: [ 0 -1  1]\n",
            "Number of unique classes: 3\n"
          ]
        }
      ]
    },
    {
      "cell_type": "code",
      "source": [
        "import matplotlib.pyplot as plt\n",
        "from sklearn.tree import plot_tree\n",
        "\n",
        "plt.figure(figsize=(20,10))\n",
        "plot_tree(clf, filled=True, feature_names=X_train.columns, class_names=['Class0', 'Class-1', 'Class1'], max_depth=3)\n",
        "plt.show()\n"
      ],
      "metadata": {
        "colab": {
          "base_uri": "https://localhost:8080/",
          "height": 566
        },
        "id": "DacqujJ-bA_K",
        "outputId": "51899761-5138-4be7-ef97-b5f3dec3dcd3"
      },
      "execution_count": 97,
      "outputs": [
        {
          "output_type": "display_data",
          "data": {
            "text/plain": [
              "<Figure size 2000x1000 with 1 Axes>"
            ],
            "image/png": "[encoded data removed]"
          },
          "metadata": {}
        }
      ]
    },
    {
      "cell_type": "markdown",
      "source": [
        "### Analyzing Bias in the Model"
      ],
      "metadata": {
        "id": "FuQKYPpUbObe"
      }
    },
    {
      "cell_type": "code",
      "source": [
        "from sklearn.metrics import confusion_matrix\n",
        "\n",
        "# Function to analyze bias for a specific racial subgroup\n",
        "def analyze_bias_for_race(race_column_name, race_name):\n",
        "    subgroup = X_test[X_test[race_column_name] == 1]\n",
        "    subgroup_target = y_test[X_test[race_column_name] == 1]\n",
        "    subgroup_pred = clf.predict(subgroup)\n",
        "    print(f\"Confusion Matrix for {race_name} Subgroup:\")\n",
        "    print(confusion_matrix(subgroup_target, subgroup_pred))\n",
        "    print(\"\\n\")"
      ],
      "metadata": {
        "id": "FLWN5mvkbPRn"
      },
      "execution_count": 98,
      "outputs": []
    },
    {
      "cell_type": "code",
      "source": [
        "print(df.columns)\n"
      ],
      "metadata": {
        "colab": {
          "base_uri": "https://localhost:8080/"
        },
        "id": "-mgDpN3oetfG",
        "outputId": "dff51405-6551-4f27-c3a3-42ff209e37b9"
      },
      "execution_count": 99,
      "outputs": [
        {
          "output_type": "stream",
          "name": "stdout",
          "text": [
            "Index(['age', 'juv_fel_count', 'decile_score', 'juv_misd_count',\n",
            "       'juv_other_count', 'priors_count', 'days_b_screening_arrest',\n",
            "       'c_days_from_compas', 'c_charge_desc', 'is_recid', 'is_violent_recid',\n",
            "       'type_of_assessment', 'score_text', 'screening_date',\n",
            "       'v_type_of_assessment', 'v_decile_score', 'v_score_text',\n",
            "       'v_screening_date', 'in_custody', 'out_custody', 'start', 'end',\n",
            "       'event', 'race_African_American', 'race_Asian', 'race_Caucasian',\n",
            "       'race_Hispanic', 'race_Native_American', 'race_Other', 'sex_Male',\n",
            "       'age_cat_Greater than 45', 'age_cat_Less than 25',\n",
            "       'c_charge_degree_(CT)', 'c_charge_degree_(F1)', 'c_charge_degree_(F2)',\n",
            "       'c_charge_degree_(F3)', 'c_charge_degree_(F5)', 'c_charge_degree_(F6)',\n",
            "       'c_charge_degree_(F7)', 'c_charge_degree_(M1)', 'c_charge_degree_(M2)',\n",
            "       'c_charge_degree_(MO3)', 'c_charge_degree_(NI0)',\n",
            "       'c_charge_degree_(TCX)', 'c_charge_degree_(X)', 'age_at_screening',\n",
            "       'total_prior_offenses'],\n",
            "      dtype='object')\n"
          ]
        }
      ]
    },
    {
      "cell_type": "code",
      "source": [
        "# Analyze bias for Caucasian subgroup\n",
        "analyze_bias_for_race('race_Caucasian', 'Caucasian')"
      ],
      "metadata": {
        "colab": {
          "base_uri": "https://localhost:8080/"
        },
        "id": "Sfe2dsvpcmjP",
        "outputId": "67f1ba45-b745-48f6-8b18-7eb96f73b7b6"
      },
      "execution_count": 100,
      "outputs": [
        {
          "output_type": "stream",
          "name": "stdout",
          "text": [
            "Confusion Matrix for Caucasian Subgroup:\n",
            "[[ 83   0   5]\n",
            " [  1 740 263]\n",
            " [  2 261 500]]\n",
            "\n",
            "\n"
          ]
        }
      ]
    },
    {
      "cell_type": "code",
      "source": [
        "# Analyze bias for Hispanic subgroup\n",
        "analyze_bias_for_race('race_Hispanic', 'Hispanic')"
      ],
      "metadata": {
        "colab": {
          "base_uri": "https://localhost:8080/"
        },
        "id": "Y4uDcMP9copE",
        "outputId": "93b53b4b-0bc0-4340-854c-ffa4252a66f6"
      },
      "execution_count": 101,
      "outputs": [
        {
          "output_type": "stream",
          "name": "stdout",
          "text": [
            "Confusion Matrix for Hispanic Subgroup:\n",
            "[[ 25   2   1]\n",
            " [  0 195  70]\n",
            " [  2  57  91]]\n",
            "\n",
            "\n"
          ]
        }
      ]
    },
    {
      "cell_type": "code",
      "source": [
        "# Analyze bias for Asian subgroup\n",
        "analyze_bias_for_race('race_Asian', 'Asian')"
      ],
      "metadata": {
        "colab": {
          "base_uri": "https://localhost:8080/"
        },
        "id": "799Le0gYcr8y",
        "outputId": "fb66e16d-1b03-4446-ca92-2e16e1eb4a93"
      },
      "execution_count": 102,
      "outputs": [
        {
          "output_type": "stream",
          "name": "stdout",
          "text": [
            "Confusion Matrix for Asian Subgroup:\n",
            "[[3 0 0]\n",
            " [0 7 0]\n",
            " [0 3 2]]\n",
            "\n",
            "\n"
          ]
        }
      ]
    },
    {
      "cell_type": "code",
      "source": [
        "# Analyze bias for Native American subgroup\n",
        "analyze_bias_for_race('race_Native_American', 'Native American')"
      ],
      "metadata": {
        "colab": {
          "base_uri": "https://localhost:8080/"
        },
        "id": "dMdiTXwrdBLr",
        "outputId": "fb423b7c-d9e4-4dcc-9211-8215158b290e"
      },
      "execution_count": 104,
      "outputs": [
        {
          "output_type": "stream",
          "name": "stdout",
          "text": [
            "Confusion Matrix for Native American Subgroup:\n",
            "[[0 0 0]\n",
            " [0 8 2]\n",
            " [2 2 4]]\n",
            "\n",
            "\n"
          ]
        }
      ]
    },
    {
      "cell_type": "code",
      "source": [
        "# Analyze bias for African American subgroup\n",
        "analyze_bias_for_race('race_African_American', 'African American')"
      ],
      "metadata": {
        "colab": {
          "base_uri": "https://localhost:8080/"
        },
        "id": "DepmRpO3i2hF",
        "outputId": "d6426d80-b2cd-4346-f9ae-8dc9c94e919b"
      },
      "execution_count": 105,
      "outputs": [
        {
          "output_type": "stream",
          "name": "stdout",
          "text": [
            "Confusion Matrix for African American Subgroup:\n",
            "[[  89    1    2]\n",
            " [   0  825  445]\n",
            " [   6  440 1087]]\n",
            "\n",
            "\n"
          ]
        }
      ]
    },
    {
      "cell_type": "code",
      "source": [
        "# Analyze bias for Other subgroup\n",
        "analyze_bias_for_race('race_Other', 'Other')"
      ],
      "metadata": {
        "colab": {
          "base_uri": "https://localhost:8080/"
        },
        "id": "VSoZ1lxdbQta",
        "outputId": "0a6194cd-6746-4ac7-eb3b-48fb98dcd8ff"
      },
      "execution_count": 106,
      "outputs": [
        {
          "output_type": "stream",
          "name": "stdout",
          "text": [
            "Confusion Matrix for Other Subgroup:\n",
            "[[ 14   0   0]\n",
            " [  0 112  46]\n",
            " [  0  26  71]]\n",
            "\n",
            "\n"
          ]
        }
      ]
    },
    {
      "cell_type": "markdown",
      "source": [
        "**Explanation**: Based on the output of the confusion matrices for different racial subgroups in your dataset, we can derive several insights about how the decision tree model performs across these groups. This analysis is vital for assessing potential biases in the model's predictions.\n",
        "\n",
        "### Confusion Matrix Interpretation\n",
        "\n",
        "Each confusion matrix provides a breakdown of the model's predictions for each racial subgroup:\n",
        "\n",
        "- The first row represents the True Negatives (TN), False Positives (FP), and False Negatives (FN) for class `0`.\n",
        "- The second row shows the TN, FP, and FN for class `1`.\n",
        "- The third row displays the TN, FP, and FN for class `-1`.\n",
        "\n",
        "### Analysis of Racial Subgroups\n",
        "\n",
        "1. **Caucasian Subgroup**\n",
        "   - The model has a relatively balanced performance but shows some misclassifications, especially between classes `1` and `-1`.\n",
        "   - The confusion matrix indicates a higher number of False Positives and False Negatives between these classes.\n",
        "\n",
        "2. **Hispanic Subgroup**\n",
        "   - The model performs reasonably well but with notable misclassifications between classes `1` and `-1`.\n",
        "   - The number of False Positives and False Negatives is significant, suggesting some degree of uncertainty in the model's predictions for this group.\n",
        "\n",
        "3. **Asian Subgroup**\n",
        "   - Given the small sample size, the model shows a decent performance with minimal misclassifications.\n",
        "   - However, the limited data points might not provide a comprehensive view of the model's performance for this group.\n",
        "\n",
        "4. **Native American Subgroup**\n",
        "   - The model's performance is difficult to assess due to the very small sample size.\n",
        "   - Some misclassifications are observed, but the small number of data points limits the conclusions that can be drawn.\n",
        "\n",
        "5. **African American Subgroup**\n",
        "   - This group shows a higher number of both False Positives and False Negatives, especially between classes `1` and `-1`.\n",
        "   - The model seems to struggle with distinguishing between these classes, indicating potential areas for improvement.\n",
        "\n",
        "6. **Other Subgroup**\n",
        "   - The model performs reasonably well, with some misclassifications observed.\n",
        "   - As with other subgroups, the model shows difficulty in accurately classifying between classes `1` and `-1`.\n",
        "\n",
        "### Overall Insights\n",
        "\n",
        "- The model shows varying degrees of performance across different racial groups, with some groups experiencing more misclassifications than others.\n",
        "- The significant number of False Positives and False Negatives in certain subgroups, especially between classes `1` and `-1`, suggests the model may have difficulty in consistently classifying cases in these categories.\n",
        "- It is crucial to consider the context of these results, including the representation of each group in the dataset and the real-world implications of these predictions.\n",
        "\n",
        "### Conclusion\n",
        "\n",
        "This analysis highlights the importance of examining machine learning models for potential biases across different demographic groups. Ensuring fairness and accuracy in model predictions is crucial, especially in sensitive domains like criminal justice.\n",
        "\n"
      ],
      "metadata": {
        "id": "yNmyQKvAbTyo"
      }
    }
  ]
}